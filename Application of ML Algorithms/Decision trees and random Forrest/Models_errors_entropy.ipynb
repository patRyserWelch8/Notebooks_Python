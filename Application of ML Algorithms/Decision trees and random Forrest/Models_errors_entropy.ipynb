{
 "cells": [
  {
   "cell_type": "markdown",
   "id": "f8bdbe72",
   "metadata": {},
   "source": [
    "# Model and entropy"
   ]
  },
  {
   "cell_type": "markdown",
   "id": "ce87253a",
   "metadata": {},
   "source": [
    "Models capture the nature of some data as simply as possible. The basic structure of a statistical model considers data as the sum of a model and some errors.  \n",
    " \n",
    "$\\widehat{𝑑𝑎𝑡𝑎} = 𝑚𝑜𝑑𝑒𝑙 + 𝑒𝑟𝑟𝑜𝑟$\n",
    "\n",
    "The model expresses the values we expect the data to be take given our knowledge.   The error reflects the differences between the model’s prediction and the observed data.  \n",
    "\n"
   ]
  },
  {
   "cell_type": "code",
   "execution_count": 13,
   "id": "9b8171e6",
   "metadata": {},
   "outputs": [],
   "source": [
    "import matplotlib.pyplot as plt \n",
    "import numpy as np \n",
    "import math \n",
    "from sklearn.linear_model import LogisticRegression\n",
    "from sklearn.metrics import classification_report, confusion_matrix\n",
    "import random\n",
    "from sklearn.metrics import confusion_matrix\n",
    " "
   ]
  },
  {
   "cell_type": "markdown",
   "id": "d69c8774",
   "metadata": {},
   "source": [
    "# Logistic regression and errors\n",
    "\n",
    "[Logistic regression explained](https://realpython.com/logistic-regression-python/)\n",
    "\n",
    "Please ignore all the Python code used to complete the example model. "
   ]
  },
  {
   "cell_type": "markdown",
   "id": "c6d118dc",
   "metadata": {},
   "source": [
    "## Some simulated data"
   ]
  },
  {
   "cell_type": "code",
   "execution_count": 14,
   "id": "6890e368",
   "metadata": {},
   "outputs": [
    {
     "data": {
      "text/plain": [
       "array([[ 0],\n",
       "       [ 1],\n",
       "       [ 2],\n",
       "       [ 3],\n",
       "       [ 4],\n",
       "       [ 5],\n",
       "       [ 6],\n",
       "       [ 7],\n",
       "       [ 8],\n",
       "       [ 9],\n",
       "       [10],\n",
       "       [11],\n",
       "       [12],\n",
       "       [13],\n",
       "       [14],\n",
       "       [15],\n",
       "       [16],\n",
       "       [17],\n",
       "       [18],\n",
       "       [19]])"
      ]
     },
     "execution_count": 14,
     "metadata": {},
     "output_type": "execute_result"
    }
   ],
   "source": [
    "x = np.arange(20).reshape(-1, 1)\n",
    "x\n"
   ]
  },
  {
   "cell_type": "markdown",
   "id": "be08863f",
   "metadata": {},
   "source": [
    "Ground truth - y:"
   ]
  },
  {
   "cell_type": "code",
   "execution_count": 15,
   "id": "b46bbe62",
   "metadata": {},
   "outputs": [
    {
     "data": {
      "text/plain": [
       "array([1., 0., 0., 1., 0., 0., 1., 1., 0., 1., 1., 1., 0., 0., 0., 1., 0.,\n",
       "       1., 0., 1.])"
      ]
     },
     "execution_count": 15,
     "metadata": {},
     "output_type": "execute_result"
    }
   ],
   "source": [
    "y = []\n",
    "for i in range(0, 20):\n",
    "    y = np.append(y, random.randint(0, 1))\n",
    "\n",
    "y"
   ]
  },
  {
   "cell_type": "markdown",
   "id": "b6e8ebb5",
   "metadata": {},
   "source": [
    "## The model fitting"
   ]
  },
  {
   "cell_type": "code",
   "execution_count": 16,
   "id": "8e84887e",
   "metadata": {},
   "outputs": [
    {
     "data": {
      "text/plain": [
       "LogisticRegression(random_state=42, solver='liblinear')"
      ]
     },
     "execution_count": 16,
     "metadata": {},
     "output_type": "execute_result"
    }
   ],
   "source": [
    "model = LogisticRegression(solver='liblinear', random_state=42)\n",
    "model.fit(x, y)\n"
   ]
  },
  {
   "cell_type": "markdown",
   "id": "47eed22f",
   "metadata": {},
   "source": [
    "Model classes:"
   ]
  },
  {
   "cell_type": "code",
   "execution_count": 17,
   "id": "cb0ac644",
   "metadata": {},
   "outputs": [
    {
     "data": {
      "text/plain": [
       "array([0., 1.])"
      ]
     },
     "execution_count": 17,
     "metadata": {},
     "output_type": "execute_result"
    }
   ],
   "source": [
    "model.classes_"
   ]
  },
  {
   "cell_type": "markdown",
   "id": "97d9c86c",
   "metadata": {},
   "source": [
    "Model.intercepts:"
   ]
  },
  {
   "cell_type": "code",
   "execution_count": 18,
   "id": "01553031",
   "metadata": {},
   "outputs": [
    {
     "data": {
      "text/plain": [
       "array([-0.06531064])"
      ]
     },
     "execution_count": 18,
     "metadata": {},
     "output_type": "execute_result"
    }
   ],
   "source": [
    "model.intercept_\n"
   ]
  },
  {
   "cell_type": "markdown",
   "id": "a1917a09",
   "metadata": {},
   "source": [
    "Model coefficients:"
   ]
  },
  {
   "cell_type": "code",
   "execution_count": 19,
   "id": "f9acadd8",
   "metadata": {},
   "outputs": [
    {
     "data": {
      "text/plain": [
       "array([[0.00825072]])"
      ]
     },
     "execution_count": 19,
     "metadata": {},
     "output_type": "execute_result"
    }
   ],
   "source": [
    "model.coef_"
   ]
  },
  {
   "cell_type": "markdown",
   "id": "fe70866a",
   "metadata": {},
   "source": [
    "## Evaluation of the model"
   ]
  },
  {
   "cell_type": "code",
   "execution_count": 20,
   "id": "55a91690",
   "metadata": {},
   "outputs": [
    {
     "data": {
      "text/plain": [
       "array([[0.51632186, 0.48367814],\n",
       "       [0.51426111, 0.48573889],\n",
       "       [0.51219988, 0.48780012],\n",
       "       [0.51013823, 0.48986177],\n",
       "       [0.50807624, 0.49192376],\n",
       "       [0.50601397, 0.49398603],\n",
       "       [0.5039515 , 0.4960485 ],\n",
       "       [0.5018889 , 0.4981111 ],\n",
       "       [0.49982622, 0.50017378],\n",
       "       [0.49776356, 0.50223644],\n",
       "       [0.49570097, 0.50429903],\n",
       "       [0.49363853, 0.50636147],\n",
       "       [0.4915763 , 0.5084237 ],\n",
       "       [0.48951437, 0.51048563],\n",
       "       [0.48745278, 0.51254722],\n",
       "       [0.48539163, 0.51460837],\n",
       "       [0.48333097, 0.51666903],\n",
       "       [0.48127088, 0.51872912],\n",
       "       [0.47921142, 0.52078858],\n",
       "       [0.47715267, 0.52284733]])"
      ]
     },
     "execution_count": 20,
     "metadata": {},
     "output_type": "execute_result"
    }
   ],
   "source": [
    "probs = model.predict_proba(x)\n",
    "probs"
   ]
  },
  {
   "cell_type": "code",
   "execution_count": 21,
   "id": "cd0e2019",
   "metadata": {},
   "outputs": [
    {
     "data": {
      "text/plain": [
       "array([0., 0., 0., 0., 0., 0., 0., 0., 1., 1., 1., 1., 1., 1., 1., 1., 1.,\n",
       "       1., 1., 1.])"
      ]
     },
     "execution_count": 21,
     "metadata": {},
     "output_type": "execute_result"
    }
   ],
   "source": [
    "y_pred = model.predict(x)\n",
    "y_pred"
   ]
  },
  {
   "cell_type": "code",
   "execution_count": 22,
   "id": "bb0b2c5a",
   "metadata": {},
   "outputs": [
    {
     "data": {
      "text/plain": [
       "[<matplotlib.lines.Line2D at 0x7fa40081f130>]"
      ]
     },
     "execution_count": 22,
     "metadata": {},
     "output_type": "execute_result"
    },
    {
     "data": {
      "image/png": "[encoded data removed]",
      "text/plain": [
       "<Figure size 432x288 with 1 Axes>"
      ]
     },
     "metadata": {
      "needs_background": "light"
     },
     "output_type": "display_data"
    }
   ],
   "source": [
    "plt.scatter(x, y)\n",
    "plt.plot(x, y_pred, color='red')"
   ]
  },
  {
   "cell_type": "markdown",
   "id": "f34f8efa",
   "metadata": {},
   "source": [
    "# Can we use this model to make some decision?"
   ]
  },
  {
   "cell_type": "markdown",
   "id": "f857b681",
   "metadata": {},
   "source": [
    "We know the ground truth - _y_ -, it has been observed when we captured the data. \n",
    "\n",
    "We know a predicted outcome - $\\widehat{y}$ - we have computed those using a prediction technique; i.e., a form of regression, decision trees, random forrest, Neural-AI, this list is not exhaustive.\n",
    "\n"
   ]
  },
  {
   "cell_type": "markdown",
   "id": "599fc4e9",
   "metadata": {},
   "source": [
    "## Confusion matrices and metrics"
   ]
  },
  {
   "cell_type": "markdown",
   "id": "47f428ba",
   "metadata": {},
   "source": [
    "The outcome a model fitting process is evaluated using some metrics that measures the number of errors in the prediction against actual some labels data.  \n",
    "\n",
    "We our training data set we have a model...\n"
   ]
  },
  {
   "cell_type": "markdown",
   "id": "2762ca9d",
   "metadata": {},
   "source": [
    "Error:"
   ]
  },
  {
   "cell_type": "code",
   "execution_count": 11,
   "id": "ad9d008d",
   "metadata": {},
   "outputs": [
    {
     "data": {
      "text/plain": [
       "0.6"
      ]
     },
     "execution_count": 11,
     "metadata": {},
     "output_type": "execute_result"
    }
   ],
   "source": [
    "model.score(x, y)"
   ]
  },
  {
   "cell_type": "markdown",
   "id": "d2d4b3f5",
   "metadata": {},
   "source": [
    "With some unseen data."
   ]
  },
  {
   "cell_type": "code",
   "execution_count": 80,
   "id": "b60d4600",
   "metadata": {},
   "outputs": [
    {
     "data": {
      "text/plain": [
       "array([[ 0],\n",
       "       [ 1],\n",
       "       [ 2],\n",
       "       [ 3],\n",
       "       [ 4],\n",
       "       [ 6],\n",
       "       [ 7],\n",
       "       [ 8],\n",
       "       [ 8],\n",
       "       [ 9],\n",
       "       [10],\n",
       "       [11],\n",
       "       [12],\n",
       "       [13],\n",
       "       [14],\n",
       "       [15],\n",
       "       [16],\n",
       "       [17],\n",
       "       [18],\n",
       "       [19]])"
      ]
     },
     "execution_count": 80,
     "metadata": {},
     "output_type": "execute_result"
    }
   ],
   "source": [
    "x_test = np.arange(20) \n",
    "y_test = y\n",
    "x_test[5] = random.randint(0, 20)\n",
    "\n",
    "x_test = np.sort(x_test)\n",
    "x_test = x_test.reshape(-1, 1)\n",
    "x_test"
   ]
  },
  {
   "cell_type": "code",
   "execution_count": 81,
   "id": "0d5f0a0b",
   "metadata": {},
   "outputs": [
    {
     "data": {
      "text/plain": [
       "array([0., 0., 1., 1., 0., 1., 1., 1., 0., 1., 1., 1., 0., 0., 0., 1., 0.,\n",
       "       1., 0., 1.])"
      ]
     },
     "execution_count": 81,
     "metadata": {},
     "output_type": "execute_result"
    }
   ],
   "source": [
    "y_test = y\n",
    "y_test[5] = abs(y[5] -1)\n",
    "\n",
    "y_test"
   ]
  },
  {
   "cell_type": "code",
   "execution_count": 82,
   "id": "537f7311",
   "metadata": {},
   "outputs": [
    {
     "data": {
      "text/plain": [
       "array([0., 0., 0., 0., 0., 0., 0., 1., 1., 1., 1., 1., 1., 1., 1., 1., 1.,\n",
       "       1., 1., 1.])"
      ]
     },
     "execution_count": 82,
     "metadata": {},
     "output_type": "execute_result"
    }
   ],
   "source": [
    "y_pred = model.predict(x_test)\n",
    "y_pred"
   ]
  },
  {
   "cell_type": "code",
   "execution_count": 83,
   "id": "1c31d37d",
   "metadata": {},
   "outputs": [
    {
     "data": {
      "text/plain": [
       "[<matplotlib.lines.Line2D at 0x7fa400489580>]"
      ]
     },
     "execution_count": 83,
     "metadata": {},
     "output_type": "execute_result"
    },
    {
     "data": {
      "image/png": "[encoded data removed]",
      "text/plain": [
       "<Figure size 432x288 with 1 Axes>"
      ]
     },
     "metadata": {
      "needs_background": "light"
     },
     "output_type": "display_data"
    }
   ],
   "source": [
    "plt.scatter(x_test,y_test)\n",
    "plt.plot(x_test, y_pred, color='red')"
   ]
  },
  {
   "cell_type": "code",
   "execution_count": 84,
   "id": "e559bcbd",
   "metadata": {},
   "outputs": [
    {
     "name": "stdout",
     "output_type": "stream",
     "text": [
      "[0. 0. 1. 1. 0. 1. 1. 1. 0. 1. 1. 1. 0. 0. 0. 1. 0. 1. 0. 1.]\n",
      "[0. 0. 0. 0. 0. 0. 0. 1. 1. 1. 1. 1. 1. 1. 1. 1. 1. 1. 1. 1.]\n"
     ]
    },
    {
     "data": {
      "text/plain": [
       "10.0"
      ]
     },
     "execution_count": 84,
     "metadata": {},
     "output_type": "execute_result"
    }
   ],
   "source": [
    "print(y_test)\n",
    "print(y_pred)\n",
    "sum(abs(y_test - y_pred))"
   ]
  },
  {
   "cell_type": "markdown",
   "id": "3fb1a96e",
   "metadata": {},
   "source": [
    "### Metrics\n",
    "For binary classification (True/False) such as logistic regression four possible events can occur. \n",
    "\n",
    "- __True positives (TP):__ The number of correct predictions for the true class; i.e., the number of predicted True class that are known to be true. \n",
    "- __True negatives (TN):__ The number of correct predictions for the false class; i.e., the number of predicted False class that are known to be False. \n",
    "- __False positives (FP):__ The number of erroneous predictions for the True class; i.e., the number of predicted True class that are known to be False. \n",
    "- __True negatives (TN):__ The number of erroneous predictions for the False class; i.e., the number of predicted False class that are known to be True. \n",
    "\n",
    "### Confusion matrix \n",
    "A confusion matrix counts the number True positives, False positives, True negatives, and False negatives.  It represents in a table the actual values against the predicted values of a testing dataset. The correct predictions are shown in green with white font. The errorneous predictions in black and orange background. \n",
    "\n",
    "|   |Predicted_0|Predicted_1|\n",
    "|---|---|---|\n",
    "|__Actual_0__| False positives|False negatives|\n",
    "|__Actual_1__| True negatives|True positives|\n",
    "\n",
    "So in our example below produces this confusion matrix:"
   ]
  },
  {
   "cell_type": "code",
   "execution_count": 85,
   "id": "245c725d",
   "metadata": {},
   "outputs": [
    {
     "data": {
      "text/plain": [
       "array([[3, 6],\n",
       "       [4, 7]])"
      ]
     },
     "execution_count": 85,
     "metadata": {},
     "output_type": "execute_result"
    }
   ],
   "source": [
    "cm = confusion_matrix(y_test,y_pred)\n",
    "cm"
   ]
  },
  {
   "cell_type": "markdown",
   "id": "f1197834",
   "metadata": {},
   "source": [
    "### Measures of quality \n",
    "\n",
    "The measures of quality for a predictive model are expressed using several performance metric referred as precision, recall, and accuracy. These metrics are probabilities computed using the following mathematical formulae. \n",
    " \n",
    "Accuracy describes how the model perform across all classes (True and False). It  adds the diagonal values of a confusion matrix and divide by the total of possible outcomes.  \n",
    " \n",
    "$𝐴𝑐𝑐𝑢𝑟𝑎𝑐𝑦= \\frac{TP + TN}{TP + TN + FP + FN}$\n",
    "\n",
    " "
   ]
  },
  {
   "cell_type": "code",
   "execution_count": 86,
   "id": "d75d7b60",
   "metadata": {},
   "outputs": [
    {
     "data": {
      "text/plain": [
       "0.5"
      ]
     },
     "execution_count": 86,
     "metadata": {},
     "output_type": "execute_result"
    }
   ],
   "source": [
    "Accuracy = (cm[1][1] + cm[0][0])/(cm[1][1] + cm[1][0] + cm[0][0] + cm[0][1])\n",
    "Accuracy"
   ]
  },
  {
   "cell_type": "markdown",
   "id": "e3476975",
   "metadata": {},
   "source": [
    "Precision measures the model’s accuracy in prediction the True class as a sample. It reflects how reliable the model is in classifying samples as positive. It is a probability based on the class columns the confusion matrix (green cells).  The precision can be computed for each class. \n",
    "\n",
    "$Precision = \\frac{TP}{TP +  FP }$"
   ]
  },
  {
   "cell_type": "code",
   "execution_count": 87,
   "id": "496e827a",
   "metadata": {},
   "outputs": [
    {
     "data": {
      "text/plain": [
       "0.7"
      ]
     },
     "execution_count": 87,
     "metadata": {},
     "output_type": "execute_result"
    }
   ],
   "source": [
    "Precision = (cm[1][1])/(cm[1][1] + cm[0][0])\n",
    "Precision"
   ]
  },
  {
   "cell_type": "markdown",
   "id": "e972ab52",
   "metadata": {},
   "source": [
    "Recall is the probability to detect positive classes. It can be calculated for each class. It is a probability is obtained by dividing the true positive by the sum of the true positive and false negative; i.e., the class row of the confusion matrix.  \n",
    "\n",
    "$Recall = \\frac{TP}{TP + FN}$"
   ]
  },
  {
   "cell_type": "code",
   "execution_count": 88,
   "id": "4b1e6e4f",
   "metadata": {},
   "outputs": [
    {
     "data": {
      "text/plain": [
       "0.7"
      ]
     },
     "execution_count": 88,
     "metadata": {},
     "output_type": "execute_result"
    }
   ],
   "source": [
    "Recall = (cm[1][1])/(cm[1][1] + cm[0][1])\n",
    "Precision"
   ]
  },
  {
   "cell_type": "markdown",
   "id": "96aea6f9",
   "metadata": {},
   "source": [
    "## Can we use this model for making some accurate predictions?\n",
    "\n",
    "Your call...."
   ]
  },
  {
   "cell_type": "markdown",
   "id": "47ff5502",
   "metadata": {},
   "source": [
    "# Probabilities"
   ]
  },
  {
   "cell_type": "markdown",
   "id": "2ebdabb0",
   "metadata": {},
   "source": [
    "Let's play Heads or Tails. We represent tails as 0 and heads as 1. We try to find out the probability randomly obtaining Head. We are playing 100 times. \n",
    " "
   ]
  },
  {
   "cell_type": "code",
   "execution_count": 89,
   "id": "2ceae79a",
   "metadata": {},
   "outputs": [
    {
     "name": "stdout",
     "output_type": "stream",
     "text": [
      "Probability to land a head is :  0.5742574257425742\n"
     ]
    }
   ],
   "source": [
    "sample = [random.randint(0,1) for x in range(101)] \n",
    "no_heads = sum(sample) \n",
    "P_head = no_heads/len(sample) \n",
    "print(\"Probability to land a head is : \", P_head) "
   ]
  },
  {
   "cell_type": "markdown",
   "id": "68d587ef",
   "metadata": {},
   "source": [
    "# How could the ground truth help making some accurate predictions?\n",
    "\n",
    "We know a predicted outcome - $\\widehat{y}$ - we have computed those using a prediction technique; i.e., a form of regression, decision trees, random forrest, Neural-AI, this list is not exhaustive.\n",
    "\n",
    "\n",
    "__Information:__ The level of surprise we may gain from some observations against the ground truth."
   ]
  },
  {
   "cell_type": "markdown",
   "id": "5570c87d",
   "metadata": {},
   "source": [
    "__A high level of probability event__ suggests some unsurprising results. We can trust them. "
   ]
  },
  {
   "cell_type": "markdown",
   "id": "80e5129f",
   "metadata": {},
   "source": [
    "__A low level of probability event__ suggest some surprising results. We cannot trust them."
   ]
  },
  {
   "cell_type": "markdown",
   "id": "cb217f4f",
   "metadata": {},
   "source": [
    "So in our previous model we had an accuracy of "
   ]
  },
  {
   "cell_type": "code",
   "execution_count": 90,
   "id": "e56e71de",
   "metadata": {},
   "outputs": [
    {
     "data": {
      "text/plain": [
       "0.5"
      ]
     },
     "execution_count": 90,
     "metadata": {},
     "output_type": "execute_result"
    }
   ],
   "source": [
    "Accuracy"
   ]
  },
  {
   "cell_type": "markdown",
   "id": "6037240c",
   "metadata": {},
   "source": [
    "We estimate the level of surprises, with some examples rules."
   ]
  },
  {
   "cell_type": "code",
   "execution_count": 91,
   "id": "8f994c8d",
   "metadata": {},
   "outputs": [
    {
     "name": "stdout",
     "output_type": "stream",
     "text": [
      "An even lower probability event  -  can expect surprises - should not trust\n"
     ]
    }
   ],
   "source": [
    "if Accuracy > 0.90:\n",
    "    print(\"High probability event  -  not much surprises - can trust\")\n",
    "elif Accuracy <= 0.90 and Accuracy > 0.70:\n",
    "    print(\"re probability event  -  some surprises - can somehow trust\")\n",
    "elif Accuracy <= 0.70 and Accuracy > 0.50:\n",
    "    print(\"A lower probability event  -  can expect surprises - may not trust\")\n",
    "elif Accuracy <= 0.50 and Accuracy > 0.30:\n",
    "    print(\"An even lower probability event  -  can expect surprises - should not trust\")\n",
    "elif Accuracy <= 0.30:\n",
    "    print(\"Low probability event  -  expect many surprises - will not trust\")"
   ]
  },
  {
   "cell_type": "markdown",
   "id": "f26bd0ae",
   "metadata": {},
   "source": [
    "Let's express it mathematically:\n",
    "\n",
    " $info(x) = - log p(x)$\n",
    " \n",
    " \n",
    "So for the __predicted values as a whole__ to illustrate the level of trust. "
   ]
  },
  {
   "cell_type": "code",
   "execution_count": 92,
   "id": "11502b38",
   "metadata": {},
   "outputs": [
    {
     "data": {
      "text/plain": [
       "1.0"
      ]
     },
     "execution_count": 92,
     "metadata": {},
     "output_type": "execute_result"
    }
   ],
   "source": [
    "info = -1 * math.log(Accuracy,2)\n",
    "info"
   ]
  },
  {
   "cell_type": "markdown",
   "id": "096cc291",
   "metadata": {},
   "source": [
    "An indication of the difference between the ground truth and the predicted outcomes is the entropy. For your interest, the entropy is \n",
    "$Entropy = − \\sum 𝑃_𝑖 log_2(𝑃_𝑖)$\n"
   ]
  },
  {
   "cell_type": "markdown",
   "id": "dbce7e68",
   "metadata": {},
   "source": [
    "\n",
    "\n",
    "We continue with our exploration by finding the level of surprises for each predicted values.... \n",
    "\n"
   ]
  },
  {
   "cell_type": "code",
   "execution_count": 93,
   "id": "52165329",
   "metadata": {},
   "outputs": [
    {
     "name": "stdout",
     "output_type": "stream",
     "text": [
      "Labels -  probability -   Level of surprise\n"
     ]
    },
    {
     "data": {
      "text/plain": [
       "[(0.0, 0.48367814168676493, 0.7263355899887102),\n",
       " (0.0, 0.48573888886922445, 0.7220840651617599),\n",
       " (1.0, 0.48780012105915865, 0.7178495450265909),\n",
       " (1.0, 0.48986176824651956, 0.713632033296088),\n",
       " (0.0, 0.49192376036481, 0.7094315331052642),\n",
       " (1.0, 0.49604849890306685, 0.7010815769908609),\n",
       " (1.0, 0.4981111049935188, 0.6969321244444987),\n",
       " (1.0, 0.5001737753749635, 0.69279969019179),\n",
       " (0.0, 0.5001737753749635, 0.69279969019179),\n",
       " (1.0, 0.5022364398416542, 0.6886842744735606),\n",
       " (1.0, 0.5042990281886491, 0.6845858769513853),\n",
       " (1.0, 0.5063614702213698, 0.6805044967076335),\n",
       " (0.0, 0.5084236957651549, 0.6764401322455951),\n",
       " (0.0, 0.5104856346748099, 0.6723927814896832),\n",
       " (0.0, 0.512547216844147, 0.6683624417857172),\n",
       " (1.0, 0.5146083722155139, 0.6643491099012843),\n",
       " (0.0, 0.51666903078931, 0.6603527820261778),\n",
       " (1.0, 0.5187291226334833, 0.6563734537729173),\n",
       " (0.0, 0.5207885778930099, 0.6524111201773434),\n",
       " (1.0, 0.5228473267993508, 0.6484657756992931)]"
      ]
     },
     "execution_count": 93,
     "metadata": {},
     "output_type": "execute_result"
    }
   ],
   "source": [
    "prob_pred = model.predict_proba(x_test)\n",
    "probs = [prob_pred[i][1] for i in range(0,len(prob_pred))]\n",
    "\n",
    "infos = [- math.log(p) for p in probs] \n",
    "\n",
    "print(\"Labels - \", \"probability - \",\" Level of surprise\") \n",
    "[info for info in zip(y_test,probs,infos)] "
   ]
  },
  {
   "cell_type": "markdown",
   "id": "20007f9b",
   "metadata": {},
   "source": [
    "## Let's recap\n",
    "\n",
    "Models capture the nature of some data as simply as possible. The basic structure of a statistical model considers data as the sum of a model and some errors.  \n",
    " \n",
    "$\\widehat{𝑑𝑎𝑡𝑎} = 𝑚𝑜𝑑𝑒𝑙 + 𝑒𝑟𝑟𝑜𝑟$\n",
    "\n",
    "The model expresses the values we expect the data to be take given our knowledge.   The error reflects the differences between the model’s prediction and the observed data.  \n",
    "\n",
    "If we have a model based on some known outcomes (i.e., labels), we can compute the probability of correct occurrences against these labels.  \n",
    "\n",
    "\n",
    "For example, we obtain some predicted data and compare against the labels. We can then find the ratio of correct predictions; i.e., correct prediction/number of predictions (Accuracy). We did that earlier. \n",
    "\n"
   ]
  },
  {
   "cell_type": "markdown",
   "id": "d18d8bad",
   "metadata": {},
   "source": [
    "## Cross entropy\n",
    "\n",
    "The cross-entropy measures __the distance from the truth and a model__.\n",
    "\n",
    "\n",
    "\n",
    "$H(p,q) = - \\sum p(x) log_2 (q(x))$\n",
    "\n",
    "\n",
    "- _p(x)_ represents the true distribution (i.e, the ground truth) \n",
    "- _q(x_) represents the predicted data from a model (i.e., probabilities) \n",
    " \n",
    " \n",
    "__our ground truth:__ p(x) is substituted with y_test\n",
    "\n",
    "__our probabilities :__ q(x) is substituted with probabilities (probs) "
   ]
  },
  {
   "cell_type": "code",
   "execution_count": 94,
   "id": "d73757e3",
   "metadata": {},
   "outputs": [],
   "source": [
    "i_s = range(0,len(probs)-1)\n",
    "# p(x) log_2 (q(x))\n",
    "log_prob = [y_test[i] * math.log(probs[i],2) for i in i_s]\n",
    "# sum \n",
    "sum_log_prob = np.sum(log_prob)\n",
    "\n",
    "# Apply -\n",
    "cross_entropy = -1 * sum_log_prob\n"
   ]
  },
  {
   "cell_type": "markdown",
   "id": "7a22d983",
   "metadata": {},
   "source": [
    "__A large cross-entropy__ indicates the models is not appropriate; it predicts many erroneous outcomes. \n",
    "\n",
    "__A small cross-entropy__ indicates the reverse; the model can potentially predict many correct outcomes. \n",
    " "
   ]
  },
  {
   "cell_type": "code",
   "execution_count": 95,
   "id": "6649a254",
   "metadata": {},
   "outputs": [
    {
     "data": {
      "text/plain": [
       "9.949967878662035"
      ]
     },
     "execution_count": 95,
     "metadata": {},
     "output_type": "execute_result"
    }
   ],
   "source": [
    "cross_entropy"
   ]
  },
  {
   "cell_type": "markdown",
   "id": "9191ab0d",
   "metadata": {},
   "source": [
    "# A simulated low cross-entropy\n",
    "\n",
    "Such cross-entropy would suggest this model is suitable to make some decision. The differences between the predicted values and ground truth is really close. "
   ]
  },
  {
   "cell_type": "code",
   "execution_count": 96,
   "id": "9047035e",
   "metadata": {},
   "outputs": [
    {
     "name": "stdout",
     "output_type": "stream",
     "text": [
      "compute product of log_2 of q(x) * p(x):\n",
      "log probabilities :  [-0.15200309344504997, -0.0, -0.0, -0.3219280948873623, -0.0, -0.3219280948873623, 0.0]\n",
      "compute sum of log probabilities:\n",
      "sum of log probabilities :  -0.7958592832197746\n",
      "cross entropy : 0.7958592832197746\n"
     ]
    }
   ],
   "source": [
    "import math \n",
    "ground_truth = [1,0,0,1,0,1,0,1] \n",
    "prob = [0.9, 0.1, 0.2, 0.8,0.1,0.8, 1.0, 1.0] \n",
    "print(\"compute product of log_2 of q(x) * p(x):\") \n",
    "log_prob = [ground_truth[i] * math.log(prob[i],2) for i in range(0,len(prob)-1)] \n",
    "print(\"log probabilities : \" ,log_prob) \n",
    "print(\"compute sum of log probabilities:\") \n",
    "sum_log_prob = np.sum(log_prob) \n",
    "print(\"sum of log probabilities : \", sum_log_prob) \n",
    "cross_entropy = -1 * sum_log_prob \n",
    "print(\"cross entropy :\", cross_entropy) \n",
    " "
   ]
  },
  {
   "cell_type": "markdown",
   "id": "a144ccc8",
   "metadata": {},
   "source": [
    "# A simulated high cross-entropy\n",
    "\n",
    "Such cross-entropy would suggest this model is __not__ suitable to make some decision. The differences between the predicted values and ground truth is high. "
   ]
  },
  {
   "cell_type": "code",
   "execution_count": 104,
   "id": "34850e9d",
   "metadata": {},
   "outputs": [
    {
     "name": "stdout",
     "output_type": "stream",
     "text": [
      "compute product of log_2 of q(x) * p(x):\n",
      "log probabilities :  [-6.643856189774724, -0.0, -0.0, -4.058893689053568, -0.0, -5.643856189774724, -0.0]\n",
      "compute sum of log probabilities:\n",
      "sum of log probabilities :  -16.346606068603016\n",
      "cross entropy : 16.346606068603016\n"
     ]
    }
   ],
   "source": [
    "import math \n",
    "ground_truth = [1,0,0,1,0,1,0,1] \n",
    "prob = [0.01, 0.09, 0.06, 0.06,0.01,0.02, 0.08, 0.03] \n",
    "print(\"compute product of log_2 of q(x) * p(x):\") \n",
    "log_prob = [ground_truth[i] * math.log(prob[i],2) for i in range(0,len(prob)-1)] \n",
    "print(\"log probabilities : \" ,log_prob) \n",
    "print(\"compute sum of log probabilities:\") \n",
    "sum_log_prob = np.sum(log_prob) \n",
    "print(\"sum of log probabilities : \", sum_log_prob) \n",
    "cross_entropy = -1 * sum_log_prob \n",
    "print(\"cross entropy :\", cross_entropy) \n",
    " "
   ]
  },
  {
   "cell_type": "code",
   "execution_count": null,
   "id": "0e9efffb",
   "metadata": {},
   "outputs": [],
   "source": []
  }
 ],
 "metadata": {
  "kernelspec": {
   "display_name": "Python 3 (ipykernel)",
   "language": "python",
   "name": "python3"
  },
  "language_info": {
   "codemirror_mode": {
    "name": "ipython",
    "version": 3
   },
   "file_extension": ".py",
   "mimetype": "text/x-python",
   "name": "python",
   "nbconvert_exporter": "python",
   "pygments_lexer": "ipython3",
   "version": "3.8.5"
  }
 },
 "nbformat": 4,
 "nbformat_minor": 5
}
