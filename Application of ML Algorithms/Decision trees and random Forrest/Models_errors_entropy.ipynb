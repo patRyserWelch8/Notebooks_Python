{
 "cells": [
  {
   "cell_type": "markdown",
   "id": "f8bdbe72",
   "metadata": {},
   "source": [
    "# Model, entropy, finding the level of surprising outcomes\n"
   ]
  },
  {
   "cell_type": "markdown",
   "id": "4b5b9702",
   "metadata": {},
   "source": [
    "## Structure of notebook.\n",
    "\n",
    "0. Import libraries\n",
    "1. What is a model?\n",
    "2. Use of simulated data\n",
    "3. Logistic regression and errors\n",
    "4. Probabilities\n",
    "5. How could the ground truth help making some accurate predictions?\n",
    "6. Let's recap\n",
    "7. A simulated low cross entropy\n",
    "8. A simulated hig cross entropy\n",
    "9. Some reading...\n",
    "\n",
    "\n"
   ]
  },
  {
   "cell_type": "markdown",
   "id": "a2144b5b",
   "metadata": {},
   "source": [
    "# Import libraries"
   ]
  },
  {
   "cell_type": "code",
   "execution_count": 1,
   "id": "9b8171e6",
   "metadata": {},
   "outputs": [],
   "source": [
    "import matplotlib.pyplot as plt \n",
    "import numpy as np \n",
    "import math \n",
    "from sklearn.linear_model import LogisticRegression\n",
    "from sklearn.metrics import classification_report, confusion_matrix\n",
    "import random\n",
    "from sklearn.metrics import confusion_matrix\n",
    " "
   ]
  },
  {
   "cell_type": "markdown",
   "id": "ce87253a",
   "metadata": {
    "heading_collapsed": true
   },
   "source": [
    "# What is a model?\n",
    "\n",
    "Models capture the nature of some data as simply as possible. The basic structure of a statistical model considers data as the sum of a model and some errors.  \n",
    " \n",
    "$\\widehat{𝑑𝑎𝑡𝑎} = 𝑚𝑜𝑑𝑒𝑙 + 𝑒𝑟𝑟𝑜𝑟$\n",
    "\n",
    "The model expresses the values we expect the data to be take given our knowledge.   The error reflects the differences between the model’s prediction and the observed data.  \n",
    "\n"
   ]
  },
  {
   "cell_type": "markdown",
   "id": "c6d118dc",
   "metadata": {
    "heading_collapsed": true
   },
   "source": [
    "# Some simulated data"
   ]
  },
  {
   "cell_type": "markdown",
   "id": "3200fb8f",
   "metadata": {
    "hidden": true
   },
   "source": [
    "## Training dataset "
   ]
  },
  {
   "cell_type": "markdown",
   "id": "146e18ef",
   "metadata": {
    "hidden": true
   },
   "source": [
    "We use some randomly simulated some temperatures. This sample is likely to be different each time the notebook is executed. "
   ]
  },
  {
   "cell_type": "code",
   "execution_count": 2,
   "id": "6890e368",
   "metadata": {
    "hidden": true
   },
   "outputs": [
    {
     "name": "stdout",
     "output_type": "stream",
     "text": [
      "Mean = 27.3125\n",
      "Standard deviation = 9.72894360914894\n"
     ]
    }
   ],
   "source": [
    "x = []\n",
    "for i in range(0, 32):\n",
    "    x = np.append(x, random.randint(10, 40))\n",
    "\n",
    "x = np.sort(x).reshape(-1,1)\n",
    "print(\"Mean =\", np.mean(x))\n",
    "print(\"Standard deviation =\", np.std(x))\n",
    "\n"
   ]
  },
  {
   "cell_type": "code",
   "execution_count": 3,
   "id": "45731d68",
   "metadata": {
    "hidden": true
   },
   "outputs": [
    {
     "data": {
      "text/plain": [
       "(array([2., 1., 2., 0., 2., 0., 4., 0., 0., 1., 1., 1., 2., 0., 4., 1., 3.,\n",
       "        0., 3., 5.]),\n",
       " array([10. , 11.5, 13. , 14.5, 16. , 17.5, 19. , 20.5, 22. , 23.5, 25. ,\n",
       "        26.5, 28. , 29.5, 31. , 32.5, 34. , 35.5, 37. , 38.5, 40. ]),\n",
       " <BarContainer object of 20 artists>)"
      ]
     },
     "execution_count": 3,
     "metadata": {},
     "output_type": "execute_result"
    },
    {
     "data": {
      "image/png": "[encoded data removed]",
      "text/plain": [
       "<Figure size 432x288 with 1 Axes>"
      ]
     },
     "metadata": {
      "needs_background": "light"
     },
     "output_type": "display_data"
    }
   ],
   "source": [
    "plt.hist(x,bins = 20)"
   ]
  },
  {
   "cell_type": "markdown",
   "id": "be08863f",
   "metadata": {
    "hidden": true
   },
   "source": [
    "__Ground truth - y - labelled data:__ \n",
    "\n",
    "We use two classes, i.e., 0 an 1.  These classes can represent genders, on and off - any two states. In our case, it is the use of air-conditioned system. "
   ]
  },
  {
   "cell_type": "code",
   "execution_count": 4,
   "id": "b46bbe62",
   "metadata": {
    "hidden": true
   },
   "outputs": [
    {
     "name": "stdout",
     "output_type": "stream",
     "text": [
      "Mean = 0.5\n",
      "Standard deviation = 0.5\n"
     ]
    }
   ],
   "source": [
    "y = []\n",
    "for i in range(0, 32):\n",
    "    y = np.append(y, random.randint(0, 1))\n",
    "\n",
    "y\n",
    "\n",
    "y = np.sort(y).reshape(-1,1)\n",
    "y\n",
    "print(\"Mean =\", np.mean(y))\n",
    "print(\"Standard deviation =\", np.std(y))\n"
   ]
  },
  {
   "cell_type": "code",
   "execution_count": 5,
   "id": "25a9eff5",
   "metadata": {
    "hidden": true
   },
   "outputs": [
    {
     "data": {
      "text/plain": [
       "(array([16., 16.]), array([0. , 0.5, 1. ]), <BarContainer object of 2 artists>)"
      ]
     },
     "execution_count": 5,
     "metadata": {},
     "output_type": "execute_result"
    },
    {
     "data": {
      "image/png": "[encoded data removed]",
      "text/plain": [
       "<Figure size 432x288 with 1 Axes>"
      ]
     },
     "metadata": {
      "needs_background": "light"
     },
     "output_type": "display_data"
    }
   ],
   "source": [
    "plt.hist(y,bins = 2)"
   ]
  },
  {
   "cell_type": "markdown",
   "id": "4a201d84",
   "metadata": {
    "hidden": true
   },
   "source": [
    "This is a graphical representation of the temperatures and on/off use of air condition systems.  \n",
    "\n",
    "The data appears to have clearly two states, and there may be suited to create a model using a logistic regression.\n",
    "\n"
   ]
  },
  {
   "cell_type": "code",
   "execution_count": 6,
   "id": "83bc3b8a",
   "metadata": {
    "hidden": true
   },
   "outputs": [
    {
     "data": {
      "text/plain": [
       "Text(0, 0.5, 'Air conditioned system on/off')"
      ]
     },
     "execution_count": 6,
     "metadata": {},
     "output_type": "execute_result"
    },
    {
     "data": {
      "image/png": "[encoded data removed]",
      "text/plain": [
       "<Figure size 432x288 with 1 Axes>"
      ]
     },
     "metadata": {
      "needs_background": "light"
     },
     "output_type": "display_data"
    }
   ],
   "source": [
    "plt.scatter(x, y)\n",
    "plt.xlabel(\"Simulated Temperatures in C\")\n",
    "plt.ylabel(\"Air conditioned system on/off\")\n",
    "\n"
   ]
  },
  {
   "cell_type": "markdown",
   "id": "8a6ca6a5",
   "metadata": {
    "hidden": true
   },
   "source": [
    "## Testing dataset "
   ]
  },
  {
   "cell_type": "markdown",
   "id": "7919305d",
   "metadata": {
    "hidden": true
   },
   "source": [
    "We use some randomly simulated some temperatures. This sample is likely to be different each time the notebook is executed. "
   ]
  },
  {
   "cell_type": "code",
   "execution_count": 7,
   "id": "36aa226a",
   "metadata": {
    "hidden": true
   },
   "outputs": [
    {
     "name": "stdout",
     "output_type": "stream",
     "text": [
      "Mean = 29.90625\n",
      "Standard deviation = 6.201609544102241\n"
     ]
    }
   ],
   "source": [
    "x_test = []\n",
    "for i in range(0, 32):\n",
    "    x_test = np.append(x_test, random.randint(20, 40))\n",
    "\n",
    "x_test = np.sort(x_test).reshape(-1,1)\n",
    "print(\"Mean =\", np.mean(x_test))\n",
    "print(\"Standard deviation =\", np.std(x_test))\n",
    "\n"
   ]
  },
  {
   "cell_type": "code",
   "execution_count": 8,
   "id": "5e516376",
   "metadata": {
    "hidden": true
   },
   "outputs": [
    {
     "data": {
      "text/plain": [
       "(array([2., 1., 2., 0., 2., 0., 4., 0., 0., 1., 1., 1., 2., 0., 4., 1., 3.,\n",
       "        0., 3., 5.]),\n",
       " array([10. , 11.5, 13. , 14.5, 16. , 17.5, 19. , 20.5, 22. , 23.5, 25. ,\n",
       "        26.5, 28. , 29.5, 31. , 32.5, 34. , 35.5, 37. , 38.5, 40. ]),\n",
       " <BarContainer object of 20 artists>)"
      ]
     },
     "execution_count": 8,
     "metadata": {},
     "output_type": "execute_result"
    },
    {
     "data": {
      "image/png": "[encoded data removed]",
      "text/plain": [
       "<Figure size 432x288 with 1 Axes>"
      ]
     },
     "metadata": {
      "needs_background": "light"
     },
     "output_type": "display_data"
    }
   ],
   "source": [
    "plt.hist(x,bins = 20)"
   ]
  },
  {
   "cell_type": "markdown",
   "id": "2369f7f3",
   "metadata": {
    "hidden": true
   },
   "source": [
    "__Ground truth - y - labelled data:__ \n",
    "\n",
    "We use two classes, i.e., 0 an 1.  These classes can represent genders, on and off - any two states. In our case, it is the use of air-conditioned system. "
   ]
  },
  {
   "cell_type": "code",
   "execution_count": 9,
   "id": "e56a7833",
   "metadata": {
    "hidden": true
   },
   "outputs": [
    {
     "name": "stdout",
     "output_type": "stream",
     "text": [
      "Mean = 0.375\n",
      "Standard deviation = 0.4841229182759271\n"
     ]
    }
   ],
   "source": [
    "y_test = []\n",
    "for i in range(0, 32):\n",
    "    y_test = np.append(y_test, random.randint(0, 1))\n",
    "\n",
    "y_test\n",
    "\n",
    "y_test = np.sort(y_test).reshape(-1,1)\n",
    "\n",
    "print(\"Mean =\", np.mean(y_test))\n",
    "print(\"Standard deviation =\", np.std(y_test))\n"
   ]
  },
  {
   "cell_type": "code",
   "execution_count": 10,
   "id": "8af3370c",
   "metadata": {
    "hidden": true
   },
   "outputs": [
    {
     "data": {
      "text/plain": [
       "(array([20., 12.]), array([0. , 0.5, 1. ]), <BarContainer object of 2 artists>)"
      ]
     },
     "execution_count": 10,
     "metadata": {},
     "output_type": "execute_result"
    },
    {
     "data": {
      "image/png": "[encoded data removed]",
      "text/plain": [
       "<Figure size 432x288 with 1 Axes>"
      ]
     },
     "metadata": {
      "needs_background": "light"
     },
     "output_type": "display_data"
    }
   ],
   "source": [
    "plt.hist(y_test,bins = 2)"
   ]
  },
  {
   "cell_type": "markdown",
   "id": "d9d050c0",
   "metadata": {
    "hidden": true
   },
   "source": [
    "This is a graphical representation of the temperatures and on/off use of air condition systems.  \n",
    "\n",
    "The data appears to have clearly two states, and there may be suited to create a model using a logistic regression.\n",
    "\n"
   ]
  },
  {
   "cell_type": "code",
   "execution_count": 11,
   "id": "a1caf1ab",
   "metadata": {
    "hidden": true
   },
   "outputs": [
    {
     "data": {
      "text/plain": [
       "Text(0, 0.5, 'Air conditioned system on/off')"
      ]
     },
     "execution_count": 11,
     "metadata": {},
     "output_type": "execute_result"
    },
    {
     "data": {
      "image/png": "[encoded data removed]",
      "text/plain": [
       "<Figure size 432x288 with 1 Axes>"
      ]
     },
     "metadata": {
      "needs_background": "light"
     },
     "output_type": "display_data"
    }
   ],
   "source": [
    "plt.scatter(x_test, y_test)\n",
    "plt.xlabel(\"Simulated Temperatures in C\")\n",
    "plt.ylabel(\"Air conditioned system on/off\")\n",
    "\n"
   ]
  },
  {
   "cell_type": "markdown",
   "id": "d69c8774",
   "metadata": {},
   "source": [
    "# Logistic regression and errors\n",
    "\n",
    "[Logistic regression explained](https://realpython.com/logistic-regression-python/)\n",
    "\n",
    "This code fits a logistic curve using the simulated dataset. We aim to search whether a logistic pattern exists within the data, and hence may need to be use for predicting the use of temperatures and the use of air conditioned systems."
   ]
  },
  {
   "cell_type": "markdown",
   "id": "b6e8ebb5",
   "metadata": {},
   "source": [
    "## The model fitting"
   ]
  },
  {
   "cell_type": "code",
   "execution_count": 12,
   "id": "8e84887e",
   "metadata": {},
   "outputs": [
    {
     "name": "stderr",
     "output_type": "stream",
     "text": [
      "/usr/local/lib/python3.8/dist-packages/sklearn/utils/validation.py:63: DataConversionWarning: A column-vector y was passed when a 1d array was expected. Please change the shape of y to (n_samples, ), for example using ravel().\n",
      "  return f(*args, **kwargs)\n"
     ]
    },
    {
     "data": {
      "text/plain": [
       "LogisticRegression(random_state=42, solver='liblinear')"
      ]
     },
     "execution_count": 12,
     "metadata": {},
     "output_type": "execute_result"
    }
   ],
   "source": [
    "model = LogisticRegression(solver='liblinear', random_state=42)\n",
    "model.fit(x, y)\n"
   ]
  },
  {
   "cell_type": "markdown",
   "id": "47eed22f",
   "metadata": {},
   "source": [
    "Model classes:"
   ]
  },
  {
   "cell_type": "code",
   "execution_count": 13,
   "id": "cb0ac644",
   "metadata": {},
   "outputs": [
    {
     "data": {
      "text/plain": [
       "array([0., 1.])"
      ]
     },
     "execution_count": 13,
     "metadata": {},
     "output_type": "execute_result"
    }
   ],
   "source": [
    "model.classes_"
   ]
  },
  {
   "cell_type": "markdown",
   "id": "97d9c86c",
   "metadata": {},
   "source": [
    "Model.intercepts:"
   ]
  },
  {
   "cell_type": "code",
   "execution_count": 14,
   "id": "01553031",
   "metadata": {},
   "outputs": [
    {
     "data": {
      "text/plain": [
       "array([-2.44153054])"
      ]
     },
     "execution_count": 14,
     "metadata": {},
     "output_type": "execute_result"
    }
   ],
   "source": [
    "model.intercept_\n"
   ]
  },
  {
   "cell_type": "code",
   "execution_count": 15,
   "id": "f9acadd8",
   "metadata": {},
   "outputs": [
    {
     "data": {
      "text/plain": [
       "array([[0.10245218]])"
      ]
     },
     "execution_count": 15,
     "metadata": {},
     "output_type": "execute_result"
    }
   ],
   "source": [
    "model.coef_"
   ]
  },
  {
   "cell_type": "code",
   "execution_count": 16,
   "id": "58c84ab8",
   "metadata": {},
   "outputs": [
    {
     "data": {
      "text/plain": [
       "[<matplotlib.lines.Line2D at 0x7fa7ffdec6a0>]"
      ]
     },
     "execution_count": 16,
     "metadata": {},
     "output_type": "execute_result"
    },
    {
     "data": {
      "image/png": "[encoded data removed]",
      "text/plain": [
       "<Figure size 432x288 with 1 Axes>"
      ]
     },
     "metadata": {
      "needs_background": "light"
     },
     "output_type": "display_data"
    }
   ],
   "source": [
    "values = np.arange(1,100).reshape(-1,1)\n",
    "points = 1/(1+np.exp(-(model.intercept_ + model.coef_ * values)))\n",
    "plt.plot(values, points)\n"
   ]
  },
  {
   "cell_type": "markdown",
   "id": "a1917a09",
   "metadata": {},
   "source": [
    "Model coefficients:"
   ]
  },
  {
   "cell_type": "markdown",
   "id": "fe70866a",
   "metadata": {},
   "source": [
    "## Evaluation of the model"
   ]
  },
  {
   "cell_type": "code",
   "execution_count": 17,
   "id": "cd0e2019",
   "metadata": {},
   "outputs": [
    {
     "data": {
      "text/plain": [
       "array([0., 0., 0., 0., 0., 0., 0., 1., 1., 1., 1., 1., 1., 1., 1., 1., 1.,\n",
       "       1., 1., 1., 1., 1., 1., 1., 1., 1., 1., 1., 1., 1., 1., 1.])"
      ]
     },
     "execution_count": 17,
     "metadata": {},
     "output_type": "execute_result"
    }
   ],
   "source": [
    "y_pred = model.predict(x_test)\n",
    "y_pred"
   ]
  },
  {
   "cell_type": "code",
   "execution_count": 18,
   "id": "bb0b2c5a",
   "metadata": {},
   "outputs": [
    {
     "data": {
      "text/plain": [
       "[<matplotlib.lines.Line2D at 0x7fa7ffdd3910>]"
      ]
     },
     "execution_count": 18,
     "metadata": {},
     "output_type": "execute_result"
    },
    {
     "data": {
      "image/png": "[encoded data removed]",
      "text/plain": [
       "<Figure size 432x288 with 1 Axes>"
      ]
     },
     "metadata": {
      "needs_background": "light"
     },
     "output_type": "display_data"
    }
   ],
   "source": [
    "plt.scatter(x_test, y_test)\n",
    "plt.plot(x_test, y_pred, color='red')"
   ]
  },
  {
   "cell_type": "markdown",
   "id": "f34f8efa",
   "metadata": {
    "heading_collapsed": true
   },
   "source": [
    "# Can we use this model to make some decision?"
   ]
  },
  {
   "cell_type": "markdown",
   "id": "f857b681",
   "metadata": {
    "hidden": true
   },
   "source": [
    "We know the ground truth - _y_ -, it has been observed when we captured the data. \n",
    "\n",
    "We know a predicted outcome - $\\widehat{y}$ - we have computed those using a prediction technique; i.e., a form of regression, decision trees, random forrest, Neural-AI, this list is not exhaustive.\n",
    "\n"
   ]
  },
  {
   "cell_type": "markdown",
   "id": "599fc4e9",
   "metadata": {
    "hidden": true
   },
   "source": [
    "## Confusion matrices and metrics"
   ]
  },
  {
   "cell_type": "markdown",
   "id": "47f428ba",
   "metadata": {
    "hidden": true
   },
   "source": [
    "The outcome a model fitting process is evaluated using some metrics that measures the number of errors in the prediction against actual some labels data.  \n",
    "\n",
    "The model accuracy on the _training_ dataset is given below. This data was used for __training__. "
   ]
  },
  {
   "cell_type": "code",
   "execution_count": 19,
   "id": "ad9d008d",
   "metadata": {
    "hidden": true
   },
   "outputs": [
    {
     "data": {
      "text/plain": [
       "0.84375"
      ]
     },
     "execution_count": 19,
     "metadata": {},
     "output_type": "execute_result"
    }
   ],
   "source": [
    "model.score(x, y)"
   ]
  },
  {
   "cell_type": "markdown",
   "id": "b5c1b7bb",
   "metadata": {
    "hidden": true
   },
   "source": [
    "__Testing data__\n",
    "\n",
    "If this score is much lower, then we may have some overfitting to the training dataset."
   ]
  },
  {
   "cell_type": "code",
   "execution_count": 20,
   "id": "6cd7f346",
   "metadata": {
    "hidden": true
   },
   "outputs": [
    {
     "data": {
      "text/plain": [
       "0.59375"
      ]
     },
     "execution_count": 20,
     "metadata": {},
     "output_type": "execute_result"
    }
   ],
   "source": [
    "model.score(x_test, y_test)"
   ]
  },
  {
   "cell_type": "markdown",
   "id": "ecc6ec0f",
   "metadata": {
    "hidden": true
   },
   "source": [
    "Number of errors or mis-predictions:"
   ]
  },
  {
   "cell_type": "code",
   "execution_count": 21,
   "id": "e559bcbd",
   "metadata": {
    "hidden": true
   },
   "outputs": [
    {
     "name": "stdout",
     "output_type": "stream",
     "text": [
      "Total incorrect      :  [12. 12. 12. 12. 12. 12. 12. 20. 20. 20. 20. 20. 20. 20. 20. 20. 20. 20.\n",
      " 20. 20. 20. 20. 20. 20. 20. 20. 20. 20. 20. 20. 20. 20.]\n",
      "percentage incorrect :  [0.375 0.375 0.375 0.375 0.375 0.375 0.375 0.625 0.625 0.625 0.625 0.625\n",
      " 0.625 0.625 0.625 0.625 0.625 0.625 0.625 0.625 0.625 0.625 0.625 0.625\n",
      " 0.625 0.625 0.625 0.625 0.625 0.625 0.625 0.625]\n"
     ]
    }
   ],
   "source": [
    "\n",
    "print(\"Total incorrect      : \", sum(abs(y_test - y_pred)))\n",
    "print(\"percentage incorrect : \", sum(abs(y_test - y_pred))/len(x))"
   ]
  },
  {
   "cell_type": "markdown",
   "id": "3fb1a96e",
   "metadata": {
    "hidden": true
   },
   "source": [
    "### Metrics\n",
    "For binary classification (True/False) such as logistic regression four possible events can occur. \n",
    "\n",
    "- __True positives (TP):__ The number of correct predictions for the true class; i.e., the number of predicted True class that are known to be true. \n",
    "- __True negatives (TN):__ The number of correct predictions for the false class; i.e., the number of predicted False class that are known to be False. \n",
    "- __False positives (FP):__ The number of erroneous predictions for the True class; i.e., the number of predicted True class that are known to be False. \n",
    "- __False negatives (FN):__ The number of erroneous predictions for the False class; i.e., the number of predicted False class that are known to be True. \n",
    "\n",
    "### Confusion matrix \n",
    "A confusion matrix counts the number True positives, False positives, True negatives, and False negatives.  It represents in a table the actual values against the predicted values of a testing dataset. The correct predictions are shown in green with white font. The errorneous predictions in black and orange background. \n",
    "\n",
    "|   |Predicted_0|Predicted_1|\n",
    "|---|---|---|\n",
    "|__Actual_0__| False positives|False negatives|\n",
    "|__Actual_1__| True negatives|True positives|\n",
    "\n",
    "So in our example below produces this confusion matrix:"
   ]
  },
  {
   "cell_type": "code",
   "execution_count": 22,
   "id": "245c725d",
   "metadata": {
    "hidden": true
   },
   "outputs": [
    {
     "data": {
      "text/plain": [
       "array([[ 7, 13],\n",
       "       [ 0, 12]])"
      ]
     },
     "execution_count": 22,
     "metadata": {},
     "output_type": "execute_result"
    }
   ],
   "source": [
    "cm = confusion_matrix(y_test,y_pred)\n",
    "cm"
   ]
  },
  {
   "cell_type": "markdown",
   "id": "f1197834",
   "metadata": {
    "hidden": true
   },
   "source": [
    "### Measures of quality \n",
    "\n",
    "The measures of quality for a predictive model are expressed using several performance metric referred as precision, recall, and accuracy. These metrics are probabilities computed using the following mathematical formulae. \n",
    " \n",
    "Accuracy describes how the model perform across all classes (True and False). It  adds the diagonal values of a confusion matrix and divide by the total of possible outcomes.  \n",
    " \n",
    "$𝐴𝑐𝑐𝑢𝑟𝑎𝑐𝑦= \\frac{TP + TN}{TP + TN + FP + FN}$\n",
    "\n",
    " "
   ]
  },
  {
   "cell_type": "code",
   "execution_count": 23,
   "id": "d75d7b60",
   "metadata": {
    "hidden": true
   },
   "outputs": [
    {
     "data": {
      "text/plain": [
       "0.59375"
      ]
     },
     "execution_count": 23,
     "metadata": {},
     "output_type": "execute_result"
    }
   ],
   "source": [
    "Accuracy = (cm[1][1] + cm[0][0])/(cm[1][1] + cm[1][0] + cm[0][0] + cm[0][1])\n",
    "Accuracy"
   ]
  },
  {
   "cell_type": "markdown",
   "id": "e3476975",
   "metadata": {
    "hidden": true
   },
   "source": [
    "Precision measures the model’s accuracy in prediction the True class as a sample. It reflects how reliable the model is in classifying samples as positive. It is a probability based on the class columns the confusion matrix (green cells).  The precision can be computed for each class. \n",
    "\n",
    "$Precision = \\frac{TP}{TP +  FP }$"
   ]
  },
  {
   "cell_type": "code",
   "execution_count": 24,
   "id": "496e827a",
   "metadata": {
    "hidden": true
   },
   "outputs": [
    {
     "data": {
      "text/plain": [
       "0.631578947368421"
      ]
     },
     "execution_count": 24,
     "metadata": {},
     "output_type": "execute_result"
    }
   ],
   "source": [
    "Precision = (cm[1][1])/(cm[1][1] + cm[0][0])\n",
    "Precision"
   ]
  },
  {
   "cell_type": "markdown",
   "id": "e972ab52",
   "metadata": {
    "hidden": true
   },
   "source": [
    "Recall is the probability to detect positive classes. It can be calculated for each class. It is a probability is obtained by dividing the true positive by the sum of the true positive and false negative; i.e., the class row of the confusion matrix.  \n",
    "\n",
    "$Recall = \\frac{TP}{TP + FN}$"
   ]
  },
  {
   "cell_type": "code",
   "execution_count": 25,
   "id": "4b1e6e4f",
   "metadata": {
    "hidden": true
   },
   "outputs": [
    {
     "data": {
      "text/plain": [
       "0.631578947368421"
      ]
     },
     "execution_count": 25,
     "metadata": {},
     "output_type": "execute_result"
    }
   ],
   "source": [
    "Recall = (cm[1][1])/(cm[1][1] + cm[0][1])\n",
    "Precision"
   ]
  },
  {
   "cell_type": "markdown",
   "id": "96aea6f9",
   "metadata": {
    "hidden": true
   },
   "source": [
    "## Can we use this model for making some accurate predictions?\n",
    "\n",
    "Your call...."
   ]
  },
  {
   "cell_type": "markdown",
   "id": "47ff5502",
   "metadata": {
    "heading_collapsed": true
   },
   "source": [
    "# Probabilities"
   ]
  },
  {
   "cell_type": "markdown",
   "id": "2ebdabb0",
   "metadata": {
    "hidden": true
   },
   "source": [
    "Let's play Heads or Tails. We represent tails as 0 and heads as 1. We try to find out the probability randomly obtaining Head. We are playing 100 times. \n",
    " "
   ]
  },
  {
   "cell_type": "code",
   "execution_count": 26,
   "id": "2ceae79a",
   "metadata": {
    "hidden": true
   },
   "outputs": [
    {
     "name": "stdout",
     "output_type": "stream",
     "text": [
      "Probability to land a head is :  0.46534653465346537\n"
     ]
    }
   ],
   "source": [
    "sample = [random.randint(0,1) for x in range(101)] \n",
    "no_heads = sum(sample) \n",
    "P_head = no_heads/len(sample) \n",
    "print(\"Probability to land a head is : \", P_head) "
   ]
  },
  {
   "cell_type": "markdown",
   "id": "5570c87d",
   "metadata": {
    "hidden": true
   },
   "source": [
    "__A high level of probability event__ suggests some unsurprising results. We can trust a prediction. "
   ]
  },
  {
   "cell_type": "markdown",
   "id": "80e5129f",
   "metadata": {
    "hidden": true
   },
   "source": [
    "__A low level of probability event__ suggest some surprising results. We cannot trust a prediction."
   ]
  },
  {
   "cell_type": "markdown",
   "id": "6bace226",
   "metadata": {
    "hidden": true
   },
   "source": [
    "Probability of finding each temperature in our samples; x and x_test."
   ]
  },
  {
   "cell_type": "code",
   "execution_count": 27,
   "id": "6ac23020",
   "metadata": {
    "hidden": true
   },
   "outputs": [
    {
     "data": {
      "text/plain": [
       "[(array([10.]), 0.03125),\n",
       " (array([11.]), 0.03125),\n",
       " (array([12.]), 0.03125),\n",
       " (array([13.]), 0.0625),\n",
       " (array([13.]), 0.0625),\n",
       " (array([16.]), 0.0625),\n",
       " (array([16.]), 0.0625),\n",
       " (array([19.]), 0.0625),\n",
       " (array([19.]), 0.0625),\n",
       " (array([20.]), 0.0625),\n",
       " (array([20.]), 0.0625),\n",
       " (array([24.]), 0.03125),\n",
       " (array([25.]), 0.03125),\n",
       " (array([27.]), 0.03125),\n",
       " (array([28.]), 0.03125),\n",
       " (array([29.]), 0.03125),\n",
       " (array([31.]), 0.03125),\n",
       " (array([32.]), 0.09375),\n",
       " (array([32.]), 0.09375),\n",
       " (array([32.]), 0.09375),\n",
       " (array([33.]), 0.03125),\n",
       " (array([34.]), 0.0625),\n",
       " (array([34.]), 0.0625),\n",
       " (array([35.]), 0.03125),\n",
       " (array([37.]), 0.09375),\n",
       " (array([37.]), 0.09375),\n",
       " (array([37.]), 0.09375),\n",
       " (array([39.]), 0.0625),\n",
       " (array([39.]), 0.0625),\n",
       " (array([40.]), 0.09375),\n",
       " (array([40.]), 0.09375),\n",
       " (array([40.]), 0.09375)]"
      ]
     },
     "execution_count": 27,
     "metadata": {},
     "output_type": "execute_result"
    }
   ],
   "source": [
    "N     = len(x)\n",
    "probs_x = [np.count_nonzero(x == x_i)/N for x_i in x]\n",
    "[row for row in zip(x,probs_x)] "
   ]
  },
  {
   "cell_type": "code",
   "execution_count": 28,
   "id": "5ddf804a",
   "metadata": {
    "hidden": true
   },
   "outputs": [
    {
     "data": {
      "text/plain": [
       "[(array([0.]), 0.5),\n",
       " (array([0.]), 0.5),\n",
       " (array([0.]), 0.5),\n",
       " (array([0.]), 0.5),\n",
       " (array([0.]), 0.5),\n",
       " (array([0.]), 0.5),\n",
       " (array([0.]), 0.5),\n",
       " (array([0.]), 0.5),\n",
       " (array([0.]), 0.5),\n",
       " (array([0.]), 0.5),\n",
       " (array([0.]), 0.5),\n",
       " (array([0.]), 0.5),\n",
       " (array([0.]), 0.5),\n",
       " (array([0.]), 0.5),\n",
       " (array([0.]), 0.5),\n",
       " (array([0.]), 0.5),\n",
       " (array([1.]), 0.5),\n",
       " (array([1.]), 0.5),\n",
       " (array([1.]), 0.5),\n",
       " (array([1.]), 0.5),\n",
       " (array([1.]), 0.5),\n",
       " (array([1.]), 0.5),\n",
       " (array([1.]), 0.5),\n",
       " (array([1.]), 0.5),\n",
       " (array([1.]), 0.5),\n",
       " (array([1.]), 0.5),\n",
       " (array([1.]), 0.5),\n",
       " (array([1.]), 0.5),\n",
       " (array([1.]), 0.5),\n",
       " (array([1.]), 0.5),\n",
       " (array([1.]), 0.5),\n",
       " (array([1.]), 0.5)]"
      ]
     },
     "execution_count": 28,
     "metadata": {},
     "output_type": "execute_result"
    }
   ],
   "source": [
    "N     = len(y)\n",
    "probs_y = [np.count_nonzero(y == y_i)/N for y_i in y]\n",
    "[row for row in zip(y,probs_y)] "
   ]
  },
  {
   "cell_type": "code",
   "execution_count": 29,
   "id": "4fc28a95",
   "metadata": {
    "hidden": true
   },
   "outputs": [
    {
     "data": {
      "text/plain": [
       "[(array([21.]), 0.03125),\n",
       " (array([22.]), 0.125),\n",
       " (array([22.]), 0.125),\n",
       " (array([22.]), 0.125),\n",
       " (array([22.]), 0.125),\n",
       " (array([23.]), 0.0625),\n",
       " (array([23.]), 0.0625),\n",
       " (array([24.]), 0.0625),\n",
       " (array([24.]), 0.0625),\n",
       " (array([25.]), 0.0625),\n",
       " (array([25.]), 0.0625),\n",
       " (array([26.]), 0.03125),\n",
       " (array([28.]), 0.09375),\n",
       " (array([28.]), 0.09375),\n",
       " (array([28.]), 0.09375),\n",
       " (array([29.]), 0.0625),\n",
       " (array([29.]), 0.0625),\n",
       " (array([31.]), 0.0625),\n",
       " (array([31.]), 0.0625),\n",
       " (array([32.]), 0.03125),\n",
       " (array([33.]), 0.0625),\n",
       " (array([33.]), 0.0625),\n",
       " (array([34.]), 0.03125),\n",
       " (array([35.]), 0.03125),\n",
       " (array([36.]), 0.0625),\n",
       " (array([36.]), 0.0625),\n",
       " (array([38.]), 0.03125),\n",
       " (array([39.]), 0.09375),\n",
       " (array([39.]), 0.09375),\n",
       " (array([39.]), 0.09375),\n",
       " (array([40.]), 0.0625),\n",
       " (array([40.]), 0.0625)]"
      ]
     },
     "execution_count": 29,
     "metadata": {},
     "output_type": "execute_result"
    }
   ],
   "source": [
    "N     = len(x_test)\n",
    "probs_x_test = [np.count_nonzero(x_test == x_i)/N for x_i in x_test]\n",
    "[row for row in zip(x_test,probs_x_test)] "
   ]
  },
  {
   "cell_type": "code",
   "execution_count": 30,
   "id": "77129d6d",
   "metadata": {
    "hidden": true
   },
   "outputs": [
    {
     "data": {
      "text/plain": [
       "[(array([0.]), 0.625),\n",
       " (array([0.]), 0.625),\n",
       " (array([0.]), 0.625),\n",
       " (array([0.]), 0.625),\n",
       " (array([0.]), 0.625),\n",
       " (array([0.]), 0.625),\n",
       " (array([0.]), 0.625),\n",
       " (array([0.]), 0.625),\n",
       " (array([0.]), 0.625),\n",
       " (array([0.]), 0.625),\n",
       " (array([0.]), 0.625),\n",
       " (array([0.]), 0.625),\n",
       " (array([0.]), 0.625),\n",
       " (array([0.]), 0.625),\n",
       " (array([0.]), 0.625),\n",
       " (array([0.]), 0.625),\n",
       " (array([0.]), 0.625),\n",
       " (array([0.]), 0.625),\n",
       " (array([0.]), 0.625),\n",
       " (array([0.]), 0.625),\n",
       " (array([1.]), 0.375),\n",
       " (array([1.]), 0.375),\n",
       " (array([1.]), 0.375),\n",
       " (array([1.]), 0.375),\n",
       " (array([1.]), 0.375),\n",
       " (array([1.]), 0.375),\n",
       " (array([1.]), 0.375),\n",
       " (array([1.]), 0.375),\n",
       " (array([1.]), 0.375),\n",
       " (array([1.]), 0.375),\n",
       " (array([1.]), 0.375),\n",
       " (array([1.]), 0.375)]"
      ]
     },
     "execution_count": 30,
     "metadata": {},
     "output_type": "execute_result"
    }
   ],
   "source": [
    "N     = len(y_test)\n",
    "probs_y_test = [np.count_nonzero(y_test == y_i)/N for y_i in y_test]\n",
    "[row for row in zip(y_test,probs_y_test)] "
   ]
  },
  {
   "cell_type": "markdown",
   "id": "68d587ef",
   "metadata": {
    "heading_collapsed": true
   },
   "source": [
    "# How could the ground truth help making some accurate predictions?\n",
    "\n",
    "We know a predicted outcome - $\\widehat{y}$ - we have computed those using a prediction technique; i.e., a form of regression, decision trees, random forrest, Neural-AI, this list is not exhaustive.\n",
    "\n",
    "\n",
    "__Information:__ The level of surprise we may gain from some observations against the ground truth.\n",
    "\n",
    "__We want to lower the level of uncertainty by increasing the probability of predicting an accurate value.__"
   ]
  },
  {
   "cell_type": "markdown",
   "id": "358185b5",
   "metadata": {
    "hidden": true
   },
   "source": [
    "## The entropy\n",
    "__The entropy__ of a random variable is a measure of its uncertainty\n",
    "and a measure of the average amount of information required to describe the random variable (Cover & Thomas, 2006).  \n",
    "\n",
    "Entropy is measured in bits and a measure of disorders within the data."
   ]
  },
  {
   "cell_type": "markdown",
   "id": "cb217f4f",
   "metadata": {
    "hidden": true
   },
   "source": [
    "Our random sample of temperatures is a discrete random variable. The entropy $H(X)$ is\n",
    "\n",
    "$H(X) = - \\sum p(x_i) log_2 (p(x_i))$\n",
    "\n",
    "__Entropy of training temperatures:__\n"
   ]
  },
  {
   "cell_type": "code",
   "execution_count": 31,
   "id": "e56e71de",
   "metadata": {
    "hidden": true
   },
   "outputs": [
    {
     "name": "stdout",
     "output_type": "stream",
     "text": [
      "Entropy (bits):  7.280028124459134\n"
     ]
    }
   ],
   "source": [
    "i_s = range(0,len(probs_x)-1)\n",
    "# p(x) log_2 (p(x))\n",
    "log_prob = [probs_x[i] * math.log(probs_x[i],2) for i in i_s]\n",
    "# sum \n",
    "sum_log_prob = np.sum(log_prob)\n",
    "\n",
    "# Apply -\n",
    "# Apply -\n",
    "entropy = -1 * sum_log_prob\n",
    "print(\"Entropy (bits): \", entropy)"
   ]
  },
  {
   "cell_type": "markdown",
   "id": "569f3e60",
   "metadata": {
    "hidden": true
   },
   "source": [
    "__Entropy of testing temperatures:__"
   ]
  },
  {
   "cell_type": "code",
   "execution_count": 32,
   "id": "1007eb61",
   "metadata": {
    "hidden": true
   },
   "outputs": [
    {
     "name": "stdout",
     "output_type": "stream",
     "text": [
      "Entropy (bits):  8.10845859334435\n"
     ]
    }
   ],
   "source": [
    "i_s = range(0,len(probs_x_test)-1)\n",
    "# p(x) log_2 (p(x))\n",
    "log_prob = [probs_x_test[i] * math.log(probs_x_test[i],2) for i in i_s]\n",
    "# sum \n",
    "sum_log_prob = np.sum(log_prob)\n",
    "\n",
    "# Apply -\n",
    "# Apply -\n",
    "entropy = -1 * sum_log_prob\n",
    "print(\"Entropy (bits): \", entropy)"
   ]
  },
  {
   "cell_type": "markdown",
   "id": "448f53d9",
   "metadata": {
    "hidden": true
   },
   "source": [
    "__Entropy of training y_labels:__"
   ]
  },
  {
   "cell_type": "code",
   "execution_count": 33,
   "id": "aec63658",
   "metadata": {
    "hidden": true
   },
   "outputs": [
    {
     "name": "stdout",
     "output_type": "stream",
     "text": [
      "Entropy (bits) :  15.5\n"
     ]
    }
   ],
   "source": [
    "i_s = range(0,len(probs_y)-1)\n",
    "# p(x) log_2 (p(x))\n",
    "log_prob = [probs_y[i] * math.log(probs_y[i],2) for i in i_s]\n",
    "# sum \n",
    "sum_log_prob = np.sum(log_prob)\n",
    "\n",
    "# Apply -\n",
    "entropy = -1 * sum_log_prob\n",
    "print(\"Entropy (bits) : \", entropy)"
   ]
  },
  {
   "cell_type": "markdown",
   "id": "a5768dd9",
   "metadata": {
    "hidden": true
   },
   "source": [
    "__Entropy of testing y_labels:__"
   ]
  },
  {
   "cell_type": "code",
   "execution_count": 34,
   "id": "fd4090cd",
   "metadata": {
    "hidden": true
   },
   "outputs": [
    {
     "name": "stdout",
     "output_type": "stream",
     "text": [
      "Entropy (bits) :  14.312928498433202\n"
     ]
    }
   ],
   "source": [
    "i_s = range(0,len(probs_y_test)-1)\n",
    "# p(x) log_2 (p(x))\n",
    "log_prob = [probs_y_test[i] * math.log(probs_y_test[i],2) for i in i_s]\n",
    "# sum \n",
    "sum_log_prob = np.sum(log_prob)\n",
    "\n",
    "# Apply -\n",
    "entropy = -1 * sum_log_prob\n",
    "print(\"Entropy (bits) : \", entropy)"
   ]
  },
  {
   "cell_type": "markdown",
   "id": "6037240c",
   "metadata": {
    "hidden": true
   },
   "source": [
    "## Cross entropy"
   ]
  },
  {
   "cell_type": "markdown",
   "id": "096cc291",
   "metadata": {
    "hidden": true
   },
   "source": [
    "An indication of the __difference between the ground truth and the predicted outcomes__ is the cross entropy. For your interest, the cross entropy is \n",
    "$H(p,q) = − \\sum p_i log_2(q(x_))$\n",
    "\n",
    "p(x) is the truth value probabilities for a class \n",
    "q(x) is the predicted values of a class \n",
    "\n",
    "When we unroll the sum we obtain:\n",
    "\n",
    "$H(P, Q) = – (P(class0) * log(Q(class0)) + P(class1) * log(Q(class1))$\n",
    "\n"
   ]
  },
  {
   "cell_type": "markdown",
   "id": "dbce7e68",
   "metadata": {
    "hidden": true
   },
   "source": [
    "\n",
    "\n",
    "We continue with our exploration by finding the level of surprises for each predicted values.... \n",
    "\n"
   ]
  },
  {
   "cell_type": "code",
   "execution_count": 35,
   "id": "52165329",
   "metadata": {
    "hidden": true
   },
   "outputs": [],
   "source": [
    "y_pred = model.predict(x_test)\n",
    "classes = [0,1]\n",
    "\n",
    "\n",
    "\n",
    "\n",
    "\n"
   ]
  },
  {
   "cell_type": "markdown",
   "id": "b15593c7",
   "metadata": {
    "hidden": true
   },
   "source": [
    "We have seen earlier for the class - i.e. on/off - the probability is the same."
   ]
  },
  {
   "cell_type": "code",
   "execution_count": 36,
   "id": "1d670e28",
   "metadata": {
    "hidden": true
   },
   "outputs": [
    {
     "name": "stdout",
     "output_type": "stream",
     "text": [
      "prob_y_test  [0.625, 0.375]\n",
      "prob_y_pred  [0.21875, 0.78125]\n"
     ]
    }
   ],
   "source": [
    "\n",
    "probs_y_test = [np.count_nonzero(y_test == class_value)/N for class_value in classes]\n",
    "probs_y_pred = [np.count_nonzero(y_pred == class_value)/N for class_value in classes]\n",
    "\n",
    "print(\"prob_y_test \", probs_y_test)\n",
    "print(\"prob_y_pred \", probs_y_pred)"
   ]
  },
  {
   "cell_type": "markdown",
   "id": "05b7e74d",
   "metadata": {
    "hidden": true
   },
   "source": [
    "We calculation the log probabiity and then the cross-entropy."
   ]
  },
  {
   "cell_type": "code",
   "execution_count": 37,
   "id": "c9ebb206",
   "metadata": {
    "hidden": true
   },
   "outputs": [
    {
     "name": "stdout",
     "output_type": "stream",
     "text": [
      "log_prob :  [-1.3704031737139977, -0.13355392883447825]\n"
     ]
    },
    {
     "data": {
      "text/plain": [
       "1.503957102548476"
      ]
     },
     "execution_count": 37,
     "metadata": {},
     "output_type": "execute_result"
    }
   ],
   "source": [
    "# p(x) log_2 (p(x))\n",
    "log_prob = [probs_y_test[i] * math.log(probs_y_pred[i],2) for i in [0,1]]\n",
    "print(\"log_prob : \", log_prob)\n",
    "\n",
    "# sum \n",
    "sum_log_prob = np.sum(log_prob)\n",
    "\n",
    "# Apply -\n",
    "cross_entropy = -1 * sum_log_prob\n",
    "\n",
    "cross_entropy"
   ]
  },
  {
   "cell_type": "markdown",
   "id": "20007f9b",
   "metadata": {},
   "source": [
    "# Let's recap\n",
    "\n",
    "Models capture the nature of some data as simply as possible. The basic structure of a statistical model considers data as the sum of a model and some errors.  \n",
    " \n",
    "$\\widehat{𝑑𝑎𝑡𝑎} = 𝑚𝑜𝑑𝑒𝑙 + 𝑒𝑟𝑟𝑜𝑟$\n",
    "\n",
    "The model expresses the values we expect the data to be take given our knowledge.   The error reflects the differences between the model’s prediction and the observed data.  \n",
    "\n",
    "If we have a model based on some known outcomes (i.e., labels), we can compute the probability of correct occurrences against these labels.  \n",
    "\n",
    "\n",
    "For example, we obtain some predicted data and compare against the labels. We can then find the ratio of correct predictions; i.e., correct prediction/number of predictions (Accuracy). We did that earlier. \n",
    "\n"
   ]
  },
  {
   "cell_type": "markdown",
   "id": "d18d8bad",
   "metadata": {},
   "source": [
    "## Cross entropy\n",
    "\n",
    "The cross-entropy measures __the distance from the truth and a model__.\n",
    "\n",
    "\n",
    "\n",
    "$H(p,q) = - \\sum p(x) log_2 (q(x))$\n",
    "\n",
    "\n",
    "- _p(x)_ represents the true distribution (i.e, the ground truth) \n",
    "- _q(x_) represents the predicted data from a model (i.e., probabilities) \n",
    " \n",
    " \n",
    "__our ground truth:__ p(x) was substituted with some probability of a value to occur in y label \n",
    "\n",
    "__our probabilities :__ q(x) is substituted with probabilities for a value occurring the predicted values "
   ]
  },
  {
   "cell_type": "markdown",
   "id": "7a22d983",
   "metadata": {},
   "source": [
    "__A large cross-entropy__ indicates the models is not appropriate; it predicts many erroneous outcomes. \n",
    "\n",
    "__A small cross-entropy__ indicates the reverse; the model can potentially predict many correct outcomes. \n",
    "\n",
    "I let you judgement based on the value below how we could trust our model to predict whether some air-condition systems may be in use based on some temperatures.\n",
    " "
   ]
  },
  {
   "cell_type": "code",
   "execution_count": 38,
   "id": "6649a254",
   "metadata": {},
   "outputs": [
    {
     "data": {
      "text/plain": [
       "1.503957102548476"
      ]
     },
     "execution_count": 38,
     "metadata": {},
     "output_type": "execute_result"
    }
   ],
   "source": [
    "cross_entropy"
   ]
  },
  {
   "cell_type": "markdown",
   "id": "9191ab0d",
   "metadata": {},
   "source": [
    "# A simulated low cross-entropy\n",
    "\n",
    "Such cross-entropy would suggest this model that predicted these predicted values is suitable to make some decision. The differences between the predicted values and ground truth is really close. \n",
    "\n",
    "We have some three classes [0,1,2]. The probability of 0 occurring is 0.6, 1 ocurring  is 0.3, and 2 occuring is 0.1.  The predicted probabilities are very close for each class; i.e., 0, 1,2."
   ]
  },
  {
   "cell_type": "code",
   "execution_count": null,
   "id": "9047035e",
   "metadata": {},
   "outputs": [],
   "source": [
    "import math \n",
    "p_ground_truth = [0.6,0.3,0.1]\n",
    "p_predicted    = [0.59, 0.29, 0.12] \n",
    "print(\"compute product of log_2 of q(x) * p(x):\") \n",
    "log_prob = [p_ground_truth[i] * math.log(p_predicted[i],2) for i in range(3)] \n",
    "print(\"log probabilities : \" ,log_prob) \n",
    "print(\"compute sum of log probabilities:\") \n",
    "sum_log_prob = np.sum(log_prob) \n",
    "print(\"sum of log probabilities : \", sum_log_prob) \n",
    "cross_entropy = -1 * sum_log_prob \n",
    "print(\"cross entropy :\", cross_entropy) \n",
    " "
   ]
  },
  {
   "cell_type": "markdown",
   "id": "a144ccc8",
   "metadata": {},
   "source": [
    "# A simulated high cross-entropy\n",
    "\n",
    "Such cross-entropy would suggest the model that produced these predicted values is __not suitable__ to make some decision. The differences between the predicted values and ground truth is high. \n",
    "\n",
    "We have some three classes [0,1,2]. The probability of 0 occurring is 0.6, 1 ocurring  is 0.3, and 2 occuring is 0.1.  The predicted probabilities are very close for each class; i.e., 0, 1,2."
   ]
  },
  {
   "cell_type": "code",
   "execution_count": null,
   "id": "34850e9d",
   "metadata": {},
   "outputs": [],
   "source": [
    "import math \n",
    "p_ground_truth = [0.6,0.3,0.1]\n",
    "p_predicted    = [0.01, 0.02, 0.97] \n",
    "print(\"compute product of log_2 of q(x) * p(x):\") \n",
    "log_prob = [ground_truth[i] * math.log(prob[i],2) for i in range(0,len(prob)-1)] \n",
    "print(\"log probabilities : \" ,log_prob) \n",
    "print(\"compute sum of log probabilities:\") \n",
    "sum_log_prob = np.sum(log_prob) \n",
    "print(\"sum of log probabilities : \", sum_log_prob) \n",
    "cross_entropy = -1 * sum_log_prob \n",
    "print(\"cross entropy :\", cross_entropy) \n",
    " "
   ]
  },
  {
   "cell_type": "markdown",
   "id": "3780b6f2",
   "metadata": {},
   "source": [
    "# Some reading\n",
    "\n",
    "- [Feature selection using Joint Mutual Information Maximisation](https://reader.elsevier.com/reader/sd/pii/S0957417415004674?token=DDA193D18D23D9B2CD6A3D0CC03D4DF2455138BA646DC7934BD9EB7AA5F1F950DA8D1865323B6D3F043FDD1C2E656132&originRegion=eu-west-1&originCreation=20230207100115)\n",
    "\n",
    "- [A Gentle Introduction to Cross-Entropy for Machine Learning](https://machinelearningmastery.com/cross-entropy-for-machine-learning/)\n",
    "- [Information gain and decisiont tree](https://www.section.io/engineering-education/entropy-information-gain-machine-learning/)\n",
    "- [Cross-Entropy Loss and Its Applications in Deep Learning](https://neptune.ai/blog/cross-entropy-loss-and-its-applications-in-deep-learning)\n"
   ]
  },
  {
   "cell_type": "code",
   "execution_count": null,
   "id": "7f1d01a6",
   "metadata": {},
   "outputs": [],
   "source": []
  }
 ],
 "metadata": {
  "kernelspec": {
   "display_name": "Python 3 (ipykernel)",
   "language": "python",
   "name": "python3"
  },
  "language_info": {
   "codemirror_mode": {
    "name": "ipython",
    "version": 3
   },
   "file_extension": ".py",
   "mimetype": "text/x-python",
   "name": "python",
   "nbconvert_exporter": "python",
   "pygments_lexer": "ipython3",
   "version": "3.8.5"
  }
 },
 "nbformat": 4,
 "nbformat_minor": 5
}
