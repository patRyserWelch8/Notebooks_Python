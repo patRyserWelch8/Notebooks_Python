{
 "cells": [
  {
   "cell_type": "markdown",
   "metadata": {},
   "source": [
    "# Sets \n"
   ]
  },
  {
   "cell_type": "markdown",
   "metadata": {},
   "source": [
    "To find more about sets mathematically use those sites:\n",
    "\n",
    "- [Introduction to sets](https://www.mathsisfun.com/sets/sets-introduction.html)\n",
    "- [Symbols](https://www.mathsisfun.com/sets/symbols.html)\n"
   ]
  },
  {
   "cell_type": "markdown",
   "metadata": {},
   "source": [
    "## Sets in Python\n",
    "\n",
    "We are going to use two sets...."
   ]
  },
  {
   "cell_type": "code",
   "execution_count": 1,
   "metadata": {},
   "outputs": [
    {
     "data": {
      "text/plain": [
       "{'beans',\n",
       " 'dairy products',\n",
       " 'fish',\n",
       " 'legumes',\n",
       " 'meat',\n",
       " 'nuts',\n",
       " 'poultry',\n",
       " 'seafood'}"
      ]
     },
     "execution_count": 1,
     "metadata": {},
     "output_type": "execute_result"
    }
   ],
   "source": [
    "protein_food = {'meat','poultry','fish','seafood',\n",
    "                'dairy products','nuts', 'legumes', 'beans', 'meat'}\n",
    "protein_food"
   ]
  },
  {
   "cell_type": "code",
   "execution_count": 2,
   "metadata": {},
   "outputs": [
    {
     "data": {
      "text/plain": [
       "{'apples',\n",
       " 'beans',\n",
       " 'berries',\n",
       " 'broccoli',\n",
       " 'dried fruits',\n",
       " 'nuts',\n",
       " 'potatoes',\n",
       " 'whole grain'}"
      ]
     },
     "execution_count": 2,
     "metadata": {},
     "output_type": "execute_result"
    }
   ],
   "source": [
    "fiber_food = {'beans','beans','broccoli','berries','apples',\n",
    "              'nuts','potatoes','dried fruits','whole grain'}\n",
    "fiber_food"
   ]
  },
  {
   "cell_type": "markdown",
   "metadata": {},
   "source": [
    "### Intersection\n",
    "\n",
    "Food that contain __both__ protein and fibers."
   ]
  },
  {
   "cell_type": "code",
   "execution_count": 3,
   "metadata": {},
   "outputs": [
    {
     "data": {
      "text/plain": [
       "{'beans', 'nuts'}"
      ]
     },
     "execution_count": 3,
     "metadata": {},
     "output_type": "execute_result"
    }
   ],
   "source": [
    "fiber_food & protein_food"
   ]
  },
  {
   "cell_type": "markdown",
   "metadata": {},
   "source": [
    "###  Union\n",
    "\n",
    "Food that contain __either__ fiber __or__ protein. "
   ]
  },
  {
   "cell_type": "code",
   "execution_count": 4,
   "metadata": {},
   "outputs": [
    {
     "data": {
      "text/plain": [
       "{'apples',\n",
       " 'beans',\n",
       " 'berries',\n",
       " 'broccoli',\n",
       " 'dairy products',\n",
       " 'dried fruits',\n",
       " 'fish',\n",
       " 'legumes',\n",
       " 'meat',\n",
       " 'nuts',\n",
       " 'potatoes',\n",
       " 'poultry',\n",
       " 'seafood',\n",
       " 'whole grain'}"
      ]
     },
     "execution_count": 4,
     "metadata": {},
     "output_type": "execute_result"
    }
   ],
   "source": [
    "fiber_food | protein_food"
   ]
  },
  {
   "cell_type": "markdown",
   "metadata": {},
   "source": [
    "### Difference\n",
    "\n",
    "Food that is a protein __but does not contain__ fibers."
   ]
  },
  {
   "cell_type": "code",
   "execution_count": 5,
   "metadata": {},
   "outputs": [
    {
     "data": {
      "text/plain": [
       "{'dairy products', 'fish', 'legumes', 'meat', 'poultry', 'seafood'}"
      ]
     },
     "execution_count": 5,
     "metadata": {},
     "output_type": "execute_result"
    }
   ],
   "source": [
    "protein_food - fiber_food"
   ]
  },
  {
   "cell_type": "markdown",
   "metadata": {},
   "source": [
    "## Bag\n",
    "\n",
    "Bag is an unorder data structure. \n",
    "\n",
    "[Bags and sets](https://web.engr.oregonstate.edu/~sinisa/courses/OSU/CS261/CS261_Textbook/Chapter08.pdf)"
   ]
  },
  {
   "cell_type": "code",
   "execution_count": 6,
   "metadata": {},
   "outputs": [],
   "source": [
    "class Bag(object):\n",
    "  def __init__(self):\n",
    "    self.collection = list()\n",
    "\n",
    "  def add(self, item):\n",
    "    self.collection.append(item)\n",
    "\n",
    "  def size(self):\n",
    "    return len(self.collection)\n",
    "\n",
    "  def is_empty(self):\n",
    "    return len(self.collection) == 0\n",
    "\n",
    "  def __iter__(self):\n",
    "    return iter(self.collection)"
   ]
  },
  {
   "cell_type": "markdown",
   "metadata": {},
   "source": [
    "### Shopping bag\n"
   ]
  },
  {
   "cell_type": "code",
   "execution_count": 7,
   "metadata": {},
   "outputs": [],
   "source": [
    "shopping_bag = Bag()\n",
    "shopping_bag.add(\"apples\")\n",
    "shopping_bag.add(\"nuts\")\n",
    "shopping_bag.add(\"avocados\")\n",
    "shopping_bag.add(\"beans\")\n",
    "shopping_bag.add(\"broccoli\")\n",
    "shopping_bag.add(\"beans\")\n"
   ]
  },
  {
   "cell_type": "code",
   "execution_count": 8,
   "metadata": {},
   "outputs": [
    {
     "name": "stdout",
     "output_type": "stream",
     "text": [
      "apples\n",
      "nuts\n",
      "avocados\n",
      "beans\n",
      "broccoli\n",
      "beans\n"
     ]
    }
   ],
   "source": [
    "for item in shopping_bag:\n",
    "    print(item)"
   ]
  },
  {
   "cell_type": "code",
   "execution_count": 9,
   "metadata": {},
   "outputs": [],
   "source": [
    "other_shopping_bag = Bag()\n",
    "other_shopping_bag.add(\"nuts\")\n",
    "other_shopping_bag.add(\"beans\")\n",
    "other_shopping_bag.add(\"chocolate\")\n",
    "other_shopping_bag.add(\"beans\")\n",
    "other_shopping_bag.add(\"rice\")\n"
   ]
  },
  {
   "cell_type": "code",
   "execution_count": 10,
   "metadata": {},
   "outputs": [
    {
     "name": "stdout",
     "output_type": "stream",
     "text": [
      "nuts\n",
      "beans\n",
      "chocolate\n",
      "beans\n",
      "rice\n"
     ]
    }
   ],
   "source": [
    "for item in other_shopping_bag:\n",
    "    print(item)"
   ]
  },
  {
   "cell_type": "markdown",
   "metadata": {},
   "source": [
    "### Intersection"
   ]
  },
  {
   "cell_type": "code",
   "execution_count": 11,
   "metadata": {},
   "outputs": [
    {
     "data": {
      "text/plain": [
       "['nuts', 'beans', 'beans']"
      ]
     },
     "execution_count": 11,
     "metadata": {},
     "output_type": "execute_result"
    }
   ],
   "source": [
    "common_items = []\n",
    "for item in shopping_bag:\n",
    "    if item in other_shopping_bag:\n",
    "        common_items.append(item)\n",
    "common_items"
   ]
  },
  {
   "cell_type": "markdown",
   "metadata": {},
   "source": [
    "### Union"
   ]
  },
  {
   "cell_type": "code",
   "execution_count": 12,
   "metadata": {},
   "outputs": [
    {
     "data": {
      "text/plain": [
       "['apples',\n",
       " 'nuts',\n",
       " 'avocados',\n",
       " 'beans',\n",
       " 'broccoli',\n",
       " 'beans',\n",
       " 'nuts',\n",
       " 'beans',\n",
       " 'chocolate',\n",
       " 'beans',\n",
       " 'rice']"
      ]
     },
     "execution_count": 12,
     "metadata": {},
     "output_type": "execute_result"
    }
   ],
   "source": [
    "all_items = shopping_bag.collection  + other_shopping_bag.collection\n",
    "all_items"
   ]
  },
  {
   "cell_type": "markdown",
   "metadata": {},
   "source": [
    "### Difference\n"
   ]
  },
  {
   "cell_type": "code",
   "execution_count": 13,
   "metadata": {},
   "outputs": [
    {
     "data": {
      "text/plain": [
       "['apples', 'avocados', 'broccoli']"
      ]
     },
     "execution_count": 13,
     "metadata": {},
     "output_type": "execute_result"
    }
   ],
   "source": [
    "different_items = []\n",
    "for item in shopping_bag:\n",
    "    if not item in other_shopping_bag:\n",
    "        different_items.append(item)\n",
    "different_items"
   ]
  },
  {
   "cell_type": "markdown",
   "metadata": {},
   "source": [
    "# Most commom item"
   ]
  },
  {
   "cell_type": "code",
   "execution_count": 16,
   "metadata": {},
   "outputs": [
    {
     "data": {
      "text/plain": [
       "['apples',\n",
       " 'nuts',\n",
       " 'avocados',\n",
       " 'beans',\n",
       " 'broccoli',\n",
       " 'beans',\n",
       " 'apples',\n",
       " 'nuts',\n",
       " 'avocados',\n",
       " 'broccoli',\n",
       " 'broccoli',\n",
       " 'broccoli',\n",
       " 'broccoli',\n",
       " 'beans',\n",
       " 'broccoli',\n",
       " 'beans',\n",
       " 'apples',\n",
       " 'nuts',\n",
       " 'apples',\n",
       " 'nuts',\n",
       " 'avocados',\n",
       " 'avocados',\n",
       " 'avocados',\n",
       " 'avocados',\n",
       " 'avocados',\n",
       " 'avocados',\n",
       " 'avocados']"
      ]
     },
     "execution_count": 16,
     "metadata": {},
     "output_type": "execute_result"
    }
   ],
   "source": [
    "shopping_bag = Bag()\n",
    "shopping_bag.add(\"apples\")\n",
    "shopping_bag.add(\"nuts\")\n",
    "shopping_bag.add(\"avocados\")\n",
    "shopping_bag.add(\"beans\")\n",
    "shopping_bag.add(\"broccoli\")\n",
    "shopping_bag.add(\"beans\")\n",
    "shopping_bag.add(\"apples\")\n",
    "shopping_bag.add(\"nuts\")\n",
    "shopping_bag.add(\"avocados\")\n",
    "shopping_bag.add(\"broccoli\")\n",
    "shopping_bag.add(\"broccoli\")\n",
    "shopping_bag.add(\"broccoli\")\n",
    "shopping_bag.add(\"broccoli\")\n",
    "shopping_bag.add(\"beans\")\n",
    "shopping_bag.add(\"broccoli\")\n",
    "shopping_bag.add(\"beans\")\n",
    "shopping_bag.add(\"apples\")\n",
    "shopping_bag.add(\"nuts\")\n",
    "shopping_bag.add(\"apples\")\n",
    "shopping_bag.add(\"nuts\")\n",
    "shopping_bag.add(\"avocados\")\n",
    "shopping_bag.add(\"avocados\")\n",
    "shopping_bag.add(\"avocados\")\n",
    "shopping_bag.add(\"avocados\")\n",
    "shopping_bag.add(\"avocados\")\n",
    "shopping_bag.add(\"avocados\")\n",
    "shopping_bag.add(\"avocados\")\n",
    "shopping_bag.collection\n"
   ]
  },
  {
   "cell_type": "markdown",
   "metadata": {},
   "source": [
    "## Question:\n",
    "In your opinion, why did we convert the list of items into a set?"
   ]
  },
  {
   "cell_type": "code",
   "execution_count": 17,
   "metadata": {},
   "outputs": [
    {
     "data": {
      "text/plain": [
       "{'apples', 'avocados', 'beans', 'broccoli', 'nuts'}"
      ]
     },
     "execution_count": 17,
     "metadata": {},
     "output_type": "execute_result"
    }
   ],
   "source": [
    "set_of_items = set(shopping_bag.collection)\n",
    "set_of_items"
   ]
  },
  {
   "cell_type": "code",
   "execution_count": 19,
   "metadata": {},
   "outputs": [
    {
     "data": {
      "text/plain": [
       "{'nuts': 4, 'avocados': 9, 'broccoli': 6, 'beans': 4, 'apples': 4}"
      ]
     },
     "execution_count": 19,
     "metadata": {},
     "output_type": "execute_result"
    }
   ],
   "source": [
    "total_item = {}\n",
    "for item in set_of_items:\n",
    "    total_item[item] = shopping_bag.collection.count(item)\n",
    "total_item"
   ]
  },
  {
   "cell_type": "code",
   "execution_count": 22,
   "metadata": {},
   "outputs": [
    {
     "data": {
      "text/plain": [
       "9"
      ]
     },
     "execution_count": 22,
     "metadata": {},
     "output_type": "execute_result"
    }
   ],
   "source": [
    "max_value = max(total_item.values())\n",
    "max_value\n"
   ]
  },
  {
   "cell_type": "code",
   "execution_count": 32,
   "metadata": {},
   "outputs": [
    {
     "data": {
      "text/plain": [
       "['avocados']"
      ]
     },
     "execution_count": 32,
     "metadata": {},
     "output_type": "execute_result"
    }
   ],
   "source": [
    "keys  = []\n",
    "items = total_item.items()\n",
    "for key, value in items:\n",
    "    if value == max_value:\n",
    "        keys.append(key)\n",
    "        \n",
    "keys"
   ]
  },
  {
   "cell_type": "code",
   "execution_count": 34,
   "metadata": {},
   "outputs": [
    {
     "name": "stdout",
     "output_type": "stream",
     "text": [
      "['avocados']  appeared the most in the bag.  The item was purchased  9  times.\n"
     ]
    }
   ],
   "source": [
    "print(keys, \" appeared the most in the bag. \",\n",
    "      \"The item was purchased \", max_value , \" times.\")"
   ]
  },
  {
   "cell_type": "code",
   "execution_count": null,
   "metadata": {},
   "outputs": [],
   "source": []
  }
 ],
 "metadata": {
  "kernelspec": {
   "display_name": "Python 3",
   "language": "python",
   "name": "python3"
  },
  "language_info": {
   "codemirror_mode": {
    "name": "ipython",
    "version": 3
   },
   "file_extension": ".py",
   "mimetype": "text/x-python",
   "name": "python",
   "nbconvert_exporter": "python",
   "pygments_lexer": "ipython3",
   "version": "3.8.6"
  }
 },
 "nbformat": 4,
 "nbformat_minor": 4
}
