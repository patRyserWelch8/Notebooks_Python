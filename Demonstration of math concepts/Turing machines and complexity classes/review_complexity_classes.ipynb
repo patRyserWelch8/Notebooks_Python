{
 "cells": [
  {
   "cell_type": "markdown",
   "metadata": {},
   "source": [
    "# Review of complexity classes"
   ]
  },
  {
   "cell_type": "markdown",
   "metadata": {},
   "source": [
    "Some additional resources to read: \n",
    "\n",
    "- [wikipedia](https://en.wikipedia.org/wiki/Complexity_class) is informative and exhaustive - readers may required good set theories and other mathematical concepts\n",
    "\n",
    "- [Complexity classes P and NP](http://mercury.webster.edu/aleshunas/Support%20Materials/Presentations/Complexity%20Classes%20P%20and%20NP%20(13%20sep%2006).pdf) - an approachable presentation. "
   ]
  },
  {
   "cell_type": "markdown",
   "metadata": {},
   "source": [
    "## Let's start with a selection sort ...."
   ]
  },
  {
   "cell_type": "markdown",
   "metadata": {},
   "source": [
    "[wikipedia](https://en.wikipedia.org/wiki/Selection_sort)\n",
    "\n",
    "[graphical representation](https://www.programiz.com/dsa/selection-sort)\n",
    "\n",
    "This procedure sort an array of values. The references to the array manipulates the array itself. We pass the array as an argument. "
   ]
  },
  {
   "cell_type": "code",
   "execution_count": 1,
   "metadata": {},
   "outputs": [],
   "source": [
    "def selectionSort(array, size):\n",
    "    outer_steps = range(0,size)\n",
    "    for outer_step in outer_steps:\n",
    "        min_idx = outer_step\n",
    "        \n",
    "        internal_steps = range(outer_step + 1, size)\n",
    "        for index in internal_steps:\n",
    "            # to sort in descending order, change > to < in this line\n",
    "            # select the minimum element in each loop\n",
    "            if array[index] < array[min_idx]:\n",
    "                min_idx = index\n",
    "         \n",
    "        # put min at the correct position\n",
    "        (array[outer_step], array[min_idx]) = (array[min_idx], array[outer_step])\n"
   ]
  },
  {
   "cell_type": "markdown",
   "metadata": {},
   "source": [
    "__The best case:__\n"
   ]
  },
  {
   "cell_type": "code",
   "execution_count": 2,
   "metadata": {},
   "outputs": [
    {
     "data": {
      "text/plain": [
       "[10, 20, 30, 40, 50]"
      ]
     },
     "execution_count": 2,
     "metadata": {},
     "output_type": "execute_result"
    }
   ],
   "source": [
    "a_list = [10,20,30,40,50]\n",
    "a_list"
   ]
  },
  {
   "cell_type": "code",
   "execution_count": 3,
   "metadata": {},
   "outputs": [
    {
     "data": {
      "text/plain": [
       "[10, 20, 30, 40, 50]"
      ]
     },
     "execution_count": 3,
     "metadata": {},
     "output_type": "execute_result"
    }
   ],
   "source": [
    "size = len(a_list)\n",
    "selectionSort(a_list, size)\n",
    "a_list"
   ]
  },
  {
   "cell_type": "markdown",
   "metadata": {},
   "source": [
    "__The worst case:__\n"
   ]
  },
  {
   "cell_type": "code",
   "execution_count": 4,
   "metadata": {},
   "outputs": [
    {
     "data": {
      "text/plain": [
       "[50, 40, 30, 20, 10]"
      ]
     },
     "execution_count": 4,
     "metadata": {},
     "output_type": "execute_result"
    }
   ],
   "source": [
    "a_list = [50,40,30,20,10]\n",
    "a_list"
   ]
  },
  {
   "cell_type": "code",
   "execution_count": 5,
   "metadata": {},
   "outputs": [
    {
     "data": {
      "text/plain": [
       "[10, 20, 30, 40, 50]"
      ]
     },
     "execution_count": 5,
     "metadata": {},
     "output_type": "execute_result"
    }
   ],
   "source": [
    "size = len(a_list)\n",
    "selectionSort(a_list, size)\n",
    "a_list"
   ]
  },
  {
   "cell_type": "code",
   "execution_count": 6,
   "metadata": {},
   "outputs": [
    {
     "name": "stdout",
     "output_type": "stream",
     "text": [
      "CPU times: user 7 µs, sys: 2 µs, total: 9 µs\n",
      "Wall time: 10.3 µs\n"
     ]
    }
   ],
   "source": [
    "max_value = int(1e1)\n",
    "a_list = [*range(max_value,0, -1)]\n",
    "\n",
    "size = len(a_list)\n",
    "%time selectionSort(a_list, size)"
   ]
  },
  {
   "cell_type": "code",
   "execution_count": 7,
   "metadata": {},
   "outputs": [
    {
     "name": "stdout",
     "output_type": "stream",
     "text": [
      "CPU times: user 250 µs, sys: 43 µs, total: 293 µs\n",
      "Wall time: 294 µs\n"
     ]
    }
   ],
   "source": [
    "max_value = int(1e2)\n",
    "a_list = [*range(max_value,0, -1)]\n",
    "size = len(a_list)\n",
    "%time selectionSort(a_list, size)"
   ]
  },
  {
   "cell_type": "code",
   "execution_count": 8,
   "metadata": {},
   "outputs": [
    {
     "name": "stdout",
     "output_type": "stream",
     "text": [
      "CPU times: user 26 ms, sys: 0 ns, total: 26 ms\n",
      "Wall time: 26 ms\n"
     ]
    }
   ],
   "source": [
    "max_value = int(1e3)\n",
    "a_list = [*range(max_value,0, -1)]\n",
    "size = len(a_list)\n",
    "%time selectionSort(a_list, size)"
   ]
  },
  {
   "cell_type": "code",
   "execution_count": 9,
   "metadata": {},
   "outputs": [
    {
     "name": "stdout",
     "output_type": "stream",
     "text": [
      "CPU times: user 2.46 s, sys: 0 ns, total: 2.46 s\n",
      "Wall time: 2.47 s\n"
     ]
    }
   ],
   "source": [
    "max_value = int(1e4)\n",
    "a_list = [*range(max_value,0, -1)]\n",
    "size = len(a_list)\n",
    "%time selectionSort(a_list, size)"
   ]
  },
  {
   "cell_type": "code",
   "execution_count": 10,
   "metadata": {},
   "outputs": [
    {
     "name": "stdout",
     "output_type": "stream",
     "text": [
      "CPU times: user 4min 13s, sys: 69.5 ms, total: 4min 13s\n",
      "Wall time: 4min 14s\n"
     ]
    }
   ],
   "source": [
    "max_value = int(1e5)\n",
    "a_list = [*range(max_value,0, -1)]\n",
    "size = len(a_list)\n",
    "%time selectionSort(a_list, size)"
   ]
  },
  {
   "cell_type": "markdown",
   "metadata": {},
   "source": [
    "### Time complexity\n",
    "\n",
    "Best and worst case complete $\\theta(n^2)$ comparisons, whether all the values or in ascending order or not.  \n",
    "\n",
    "So, it is considered to be $\\theta(n^2)$, which is quadratic. Quadratic is a form a polynomial. "
   ]
  },
  {
   "cell_type": "markdown",
   "metadata": {},
   "source": [
    "## What is a polynomial?\n",
    "\n",
    "- [A simple explanation](https://www.mathsisfun.com/algebra/polynomials.html)\n",
    "\n",
    "- [A mathematical explanation](https://mathworld.wolfram.com/Polynomial.html)\n"
   ]
  },
  {
   "cell_type": "code",
   "execution_count": 11,
   "metadata": {},
   "outputs": [],
   "source": [
    "xs = range(-100, 100)"
   ]
  },
  {
   "cell_type": "code",
   "execution_count": 12,
   "metadata": {},
   "outputs": [
    {
     "data": {
      "image/png": "[encoded data removed]",
      "text/plain": [
       "<Figure size 432x288 with 1 Axes>"
      ]
     },
     "metadata": {
      "needs_background": "light"
     },
     "output_type": "display_data"
    }
   ],
   "source": [
    "import matplotlib.pyplot as plt\n",
    "   \n",
    "ys = [x for x in xs ]\n",
    "  \n",
    "plt.plot(xs, ys)\n",
    "plt.title('Linear - n^1')\n",
    "plt.show()"
   ]
  },
  {
   "cell_type": "code",
   "execution_count": 13,
   "metadata": {},
   "outputs": [
    {
     "data": {
      "image/png": "[encoded data removed]",
      "text/plain": [
       "<Figure size 432x288 with 1 Axes>"
      ]
     },
     "metadata": {
      "needs_background": "light"
     },
     "output_type": "display_data"
    }
   ],
   "source": [
    "import matplotlib.pyplot as plt\n",
    "import math\n",
    "   \n",
    "\n",
    "ys = [pow(x,2) for x in xs ]\n",
    "  \n",
    "plt.plot(xs, ys)\n",
    "plt.title('quadratic - n^2')\n",
    "plt.show()"
   ]
  },
  {
   "cell_type": "code",
   "execution_count": 14,
   "metadata": {},
   "outputs": [
    {
     "data": {
      "image/png": "[encoded data removed]",
      "text/plain": [
       "<Figure size 432x288 with 1 Axes>"
      ]
     },
     "metadata": {
      "needs_background": "light"
     },
     "output_type": "display_data"
    }
   ],
   "source": [
    "import matplotlib.pyplot as plt\n",
    "import math\n",
    "   \n",
    "\n",
    "ys = [pow(x,3) for x in xs ]\n",
    "  \n",
    "plt.plot(xs, ys)\n",
    "plt.title('cubic - n^3')\n",
    "plt.show()"
   ]
  },
  {
   "cell_type": "code",
   "execution_count": 15,
   "metadata": {},
   "outputs": [
    {
     "data": {
      "image/png": "[encoded data removed]",
      "text/plain": [
       "<Figure size 432x288 with 1 Axes>"
      ]
     },
     "metadata": {
      "needs_background": "light"
     },
     "output_type": "display_data"
    }
   ],
   "source": [
    "import matplotlib.pyplot as plt\n",
    "import math\n",
    "   \n",
    "\n",
    "ys = [pow(x,4) for x in xs ]\n",
    "  \n",
    "plt.plot(xs, ys)\n",
    "plt.title('biquadratic - n^4')\n",
    "plt.show()"
   ]
  },
  {
   "cell_type": "markdown",
   "metadata": {},
   "source": [
    "__What is a polynomial time?__\n",
    "\n",
    "It is a time complexity expressed as $O(n^k)$, where $k \\geq 1$ or $\\theta(n^k)$, where $k \\geq 1$"
   ]
  },
  {
   "cell_type": "markdown",
   "metadata": {},
   "source": [
    "## What is the complexity of a problem?\n",
    "The complexity of the most efficient algorithm that\n",
    "solves it."
   ]
  },
  {
   "cell_type": "markdown",
   "metadata": {},
   "source": [
    "### What is a tractable algorithm?\n",
    "\n",
    "A problem is tractable if it has polynomial complexity, i.e. if the most efficient algorithm that\n",
    "solves the problem has complexity $\\theta(n^c)$ or better, for input size 𝑛 and some constant 𝑐."
   ]
  },
  {
   "cell_type": "markdown",
   "metadata": {},
   "source": [
    "##  P vs NP\n",
    "\n",
    "Class P is the set of tractable decision problems: those that can be solved in polynomial time.\n",
    "\n",
    "[P class](https://en.wikipedia.org/wiki/P_(complexity))\n",
    "\n",
    "[NP hard](https://en.wikipedia.org/wiki/NP_(complexity))\n"
   ]
  },
  {
   "cell_type": "markdown",
   "metadata": {},
   "source": [
    "# Turing machine\n",
    "\n",
    "[Turing machine](https://en.wikipedia.org/wiki/Turing_machine)\n",
    "\n",
    "[An implementation in Python](https://medium.com/practical-coding/turing-machines-in-python-8314fd6077d7)\n",
    "\n",
    "[Church-Turing thesis](https://en.wikipedia.org/wiki/History_of_the_Church–Turing_thesis)\n",
    "\n",
    "[Church-Turing thesis - simpler explanation](https://mathworld.wolfram.com/Church-TuringThesis.html)\n",
    "\n",
    "[History of computing](https://history-computer.com/the-church-turing-thesis-explained-what-it-is-when-it-was-formed/)"
   ]
  },
  {
   "cell_type": "code",
   "execution_count": null,
   "metadata": {},
   "outputs": [],
   "source": []
  },
  {
   "cell_type": "code",
   "execution_count": null,
   "metadata": {},
   "outputs": [],
   "source": []
  }
 ],
 "metadata": {
  "kernelspec": {
   "display_name": "Python 3",
   "language": "python",
   "name": "python3"
  },
  "language_info": {
   "codemirror_mode": {
    "name": "ipython",
    "version": 3
   },
   "file_extension": ".py",
   "mimetype": "text/x-python",
   "name": "python",
   "nbconvert_exporter": "python",
   "pygments_lexer": "ipython3",
   "version": "3.8.6"
  }
 },
 "nbformat": 4,
 "nbformat_minor": 4
}
